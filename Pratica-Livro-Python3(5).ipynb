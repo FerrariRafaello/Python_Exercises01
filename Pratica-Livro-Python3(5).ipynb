{
 "cells": [
  {
   "cell_type": "code",
   "execution_count": null,
   "metadata": {},
   "outputs": [
    {
     "name": "stdout",
     "output_type": "stream",
     "text": [
      "1\n"
     ]
    }
   ],
   "source": [
    "# Iteração..:\n",
    "'''\n",
    "Um modelo comum de declaração de atribuição é um modelo que atualiza uma variável,\n",
    "na qual seu 'novo' valor depende de seu valor anterior\n",
    "'''\n",
    "'''\n",
    "No exemplo abaixo é demonstrada essa função de maneira correta e\n",
    "'ancestral' onde o valor global de x é retificado após a operação de\n",
    "atualização de variáveis.\n",
    "'''\n",
    "x = 0\n",
    "x = x + 1\n",
    "print(x)"
   ]
  },
  {
   "cell_type": "code",
   "execution_count": null,
   "metadata": {},
   "outputs": [
    {
     "name": "stdout",
     "output_type": "stream",
     "text": [
      "5\n",
      "4\n",
      "3\n",
      "2\n",
      "1\n",
      "Lançar!!\n"
     ]
    }
   ],
   "source": [
    "# Declaração 'while' (Laço de repetição)..:\n",
    "'''\n",
    "Umas das formmas de iteração em Python é a declaração 'while',\n",
    "essa declaração quase é lida como um texto 'comum'.\n",
    "Com seu fluxo basicamente sendo:\n",
    "1° -> Análise da condição, retornando True ou False.\n",
    "2° -> Se a condição for falsa, saia da declaração 'while' e prossiga com as declarações seguintes.\n",
    "3° -> Se a condição for verdadeira, execute o bloco 'while' e então retorne ao passo 1.\n",
    "'''\n",
    "'''\n",
    "O exemplo abaixo demonstra uma maneira de uso do método while..:\n",
    "'''\n",
    "n = 5\n",
    "while n > 0:\n",
    "    print(n)\n",
    "    n -= 1\n",
    "print('Lançar!!')"
   ]
  },
  {
   "cell_type": "code",
   "execution_count": 55,
   "metadata": {},
   "outputs": [
    {
     "name": "stdout",
     "output_type": "stream",
     "text": [
      "pronto\n",
      "pronto\n",
      "\n",
      "\n",
      "\n",
      "escape\n",
      "pronto\n",
      "\n",
      "\n",
      "\n",
      "\n",
      "\n",
      "\n",
      "\n",
      "\n",
      "\n",
      "\n",
      "\n",
      "\n",
      "\n",
      "\n",
      "\n",
      "\n",
      "\n",
      "\n",
      "\n",
      "\n",
      "\n",
      "\n",
      "\n",
      "\n",
      "\n",
      "\n",
      "\n",
      "\n"
     ]
    }
   ],
   "source": [
    "# Laços infinitos..:\n",
    "'''\n",
    "Para sequências finitas, é possivel ter a certeza de que em algum momento ela -\n",
    "irá terminar, em ocasiões infinitas isso é claramente destorcido. As vezes você não -\n",
    "sabe que é hora de terminar o laço até chegar em sua metade. Nesse caso entra a utilização do\n",
    "método 'break' para interrompelo.\n",
    "'''\n",
    "'''\n",
    "O exemplo abaixo demonstrará a execução de um laço infinito com 'break' para sua remediação.\n",
    "'''\n",
    "while True:\n",
    "    line = input('>')\n",
    "    if line == 'z':\n",
    "        break\n",
    "    print(line)\n",
    "print('Done!')"
   ]
  },
  {
   "cell_type": "code",
   "execution_count": null,
   "metadata": {},
   "outputs": [
    {
     "name": "stdout",
     "output_type": "stream",
     "text": [
      "olá\n",
      "não exziba isso\n",
      "Done!!\n"
     ]
    }
   ],
   "source": [
    "# Finalizações de iterações com continue..:\n",
    "'''\n",
    "Sua utilização se baseia na finalização de determinada iteração\n",
    "pulando para uma próxima. Usando o comando continue é eficaz nesse uso.\n",
    "'''\n",
    "'''\n",
    "O exemplo abaixo demonstra uma utilzação do método 'continue'..:\n",
    "'''\n",
    "while True:\n",
    "    line = input('>')\n",
    "    if line[0] =='#':\n",
    "        continue\n",
    "    if line== 'z':\n",
    "        break\n",
    "    print(line)\n",
    "print('Done!!')\n"
   ]
  },
  {
   "cell_type": "code",
   "execution_count": null,
   "metadata": {},
   "outputs": [
    {
     "name": "stdout",
     "output_type": "stream",
     "text": [
      "Feliz ano novo Jose\n",
      "Feliz ano novo Gleice\n",
      "Feliz ano novo Sara\n",
      "Feito\n"
     ]
    }
   ],
   "source": [
    "# Definindo um laço usando 'for'..:\n",
    "'''\n",
    "Ao querer fazer um laço derivado de um conjunto de 'coisas', como:\n",
    "lista de palavras, linhas de arquivos, lista de números..., o co,amdo 'for'\n",
    "é sem duvidas uma ferramenta poderosa para essa execução.\n",
    "'''\n",
    "'''\n",
    "O exemplo abaixo demonstra uma utilização do 'for' para a formação de um laço..:\n",
    "'''\n",
    "amigos = ['Jose','Gleice','Sara']\n",
    "for amigo in amigos: # Amigo assume cada elemento da lista de amigos para fazer uma iteração sobre cada elemento.\n",
    "    print('Feliz ano novo', amigo)\n",
    "print('Feito')"
   ]
  },
  {
   "cell_type": "code",
   "execution_count": null,
   "metadata": {},
   "outputs": [
    {
     "name": "stdout",
     "output_type": "stream",
     "text": [
      "Contagem: 6\n",
      "Total: 154\n",
      "6\n",
      "154\n"
     ]
    }
   ],
   "source": [
    "# Padrões de laço..:\n",
    "'''\n",
    "Como é de costume programadores utilizam o laço 'for' ou 'while' para \n",
    "percorrer determinada lista de itens, ou conteúdos de um arquivo.\n",
    "Ou seja esses laços são construidos basicamente:\n",
    "1° -> Inicializando uma ou mais variáveis antes que o laço comece\n",
    "2° -> Realizando algum cálculo em cada item no corpo do laço, possivelmente alterando suas variáveis no corpo-loop\n",
    "3° -> Olhando para as variáveis resultantes quando o loop é concluído\n",
    "'''\n",
    "\n",
    "# Contando e somando repetições\n",
    "contador = 0 # Uma variável criada para contar as iterações\n",
    "for intervalo in [3,41,12,9,74,15]: # Intervalo assumo cada elemento da lista \n",
    "    contador += 1 # mesma coisa que: contador + 1\n",
    "print('Contagem:', contador)\n",
    "\n",
    "# Outro laço semelhante que calcula o total de um conjunto de números é o seguinte:\n",
    "total = 0\n",
    "for inter in [3,41,12,9,74,15]:\n",
    "    total += inter\n",
    "print('Total:', total)\n",
    "\n",
    "# Outras maneiras de fazer o apresentado acima:\n",
    "for intervalo in [3,41,12,9,74,15]:\n",
    "    intervalo = len([3,41,12,9,74,15])\n",
    "print(intervalo)\n",
    "\n",
    "for inter in [3,41,12,9,74,15]:\n",
    "    inter = sum([3,41,12,9,74,15])\n",
    "print(inter)"
   ]
  },
  {
   "cell_type": "code",
   "execution_count": null,
   "metadata": {},
   "outputs": [
    {
     "name": "stdout",
     "output_type": "stream",
     "text": [
      "Antes da iteração: None\n",
      "Laço iterado: 3 3\n",
      "Laço iterado: 41 41\n",
      "Laço iterado: 12 41\n",
      "Laço iterado: 9 41\n",
      "Laço iterado: 74 74\n",
      "Laço iterado: 15 74\n",
      "O numero maximo: 74\n",
      "74\n",
      "3\n"
     ]
    }
   ],
   "source": [
    "# Repetições Máximas e Mínimas..:\n",
    "'''\n",
    "Nessa utilização é efetuada a conferencia dos maior valores\n",
    "e dos menores valores redizidos em um dado conjunto.\n",
    "'''\n",
    "'''\n",
    "No exemplo abaixo será efetuado as duas demonstrações:\n",
    "'''\n",
    "# Máximo com 'for'..:\n",
    "maximo = None\n",
    "print('Antes da iteração:', maximo)\n",
    "for inte in [3,41,12,9,74,15]:\n",
    "    if maximo is None or inte > maximo:\n",
    "        maximo = inte\n",
    "    print('Laço iterado:', inte, maximo)\n",
    "print('O numero maximo:', maximo)\n",
    "\n",
    "# Outras formas de proceder os exemplos acima..:\n",
    "maximo = [3,41,12,9,74,15]\n",
    "print(max(maximo))\n",
    "print(min(maximo))"
   ]
  },
  {
   "cell_type": "code",
   "execution_count": null,
   "metadata": {},
   "outputs": [
    {
     "name": "stdout",
     "output_type": "stream",
     "text": [
      "3\n",
      "74\n"
     ]
    }
   ],
   "source": [
    "# Funções para min e max(Brinde!)\n",
    "\n",
    "def mini(valores = [3,41,12,9,74,15]):\n",
    "    x = valores\n",
    "    return min(x)\n",
    "\n",
    "print(mini())\n",
    "\n",
    "def maxi(valores = [3,41,12,9,74,15]):\n",
    "    x = valores\n",
    "    return max(x)\n",
    "print(maxi())"
   ]
  },
  {
   "cell_type": "code",
   "execution_count": 18,
   "metadata": {},
   "outputs": [
    {
     "name": "stdout",
     "output_type": "stream",
     "text": [
      "[1] 1 1 1\n",
      "[1, 2] 3 1.5 2\n",
      "[1, 2, 3] 6 2 3\n",
      "erro\n",
      "[1, 2, 3, 4] 10 2.5 4\n",
      "[1, 2, 3, 4, 5] 15 3 5\n",
      "[1, 2, 3, 4, 5, 6] 21 3.5 6\n",
      "erro\n",
      "[1, 2, 3, 4, 5, 6, 4] 25 3.5714285714285716 7\n",
      "[1, 2, 3, 4, 5, 6, 4, 5] 30 3.75 8\n",
      "[1, 2, 3, 4, 5, 6, 4, 5, 6] 36 4 9\n",
      "[1, 2, 3, 4, 5, 6, 4, 5, 6, 8] 44 4.4 10\n",
      "[1, 2, 3, 4, 5, 6, 4, 5, 6, 8, 4] 48 4.363636363636363 11\n",
      "[1, 2, 3, 4, 5, 6, 4, 5, 6, 8, 4, 8] 56 4.666666666666667 12\n",
      "[1, 2, 3, 4, 5, 6, 4, 5, 6, 8, 4, 8, 8] 64 4.923076923076923 13\n",
      "erro\n",
      "[1, 2, 3, 4, 5, 6, 4, 5, 6, 8, 4, 8, 8, 4] 68 4.857142857142857 14\n",
      "[1, 2, 3, 4, 5, 6, 4, 5, 6, 8, 4, 8, 8, 4, 8] 76 5.066666666666666 15\n",
      "[1, 2, 3, 4, 5, 6, 4, 5, 6, 8, 4, 8, 8, 4, 8, 9] 85 5.3125 16\n",
      "erro\n",
      "[1, 2, 3, 4, 5, 6, 4, 5, 6, 8, 4, 8, 8, 4, 8, 9] 85 5.3125 16\n"
     ]
    }
   ],
   "source": [
    "# Exercícios -> 01\n",
    "import statistics as i\n",
    "topanga = []\n",
    "\n",
    "\n",
    "def laço_principal():\n",
    "    equivalencia = True\n",
    "    while(equivalencia):\n",
    "        try:\n",
    "            num = input('Digite um número:')\n",
    "            if num == 'pronto':\n",
    "                    equivalencia = False\n",
    "            topanga.append(int(num))\n",
    "            soma  = sum(topanga)\n",
    "            media = i.mean(topanga)\n",
    "            quant = len(topanga)\n",
    "            print(topanga,soma,media,quant)\n",
    "        except ValueError:\n",
    "            print('erro')\n",
    "    print(topanga,soma,media,quant)\n",
    "laço_principal()\n",
    "     \n",
    "     \n",
    "\n"
   ]
  },
  {
   "cell_type": "code",
   "execution_count": null,
   "metadata": {},
   "outputs": [],
   "source": []
  },
  {
   "cell_type": "code",
   "execution_count": null,
   "metadata": {},
   "outputs": [],
   "source": []
  }
 ],
 "metadata": {
  "kernelspec": {
   "display_name": "Python 3",
   "language": "python",
   "name": "python3"
  },
  "language_info": {
   "codemirror_mode": {
    "name": "ipython",
    "version": 3
   },
   "file_extension": ".py",
   "mimetype": "text/x-python",
   "name": "python",
   "nbconvert_exporter": "python",
   "pygments_lexer": "ipython3",
   "version": "3.10.9"
  },
  "orig_nbformat": 4,
  "vscode": {
   "interpreter": {
    "hash": "ce52f2941166ede35db5d77fef71be126519e15341ee8857c5d250c1cc903509"
   }
  }
 },
 "nbformat": 4,
 "nbformat_minor": 2
}
