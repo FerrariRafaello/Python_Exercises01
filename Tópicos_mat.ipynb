{
 "cells": [
  {
   "cell_type": "code",
   "execution_count": 8,
   "metadata": {},
   "outputs": [
    {
     "name": "stdout",
     "output_type": "stream",
     "text": [
      "[[110  60 270 445  55]]\n",
      "[[ 4  8 15 28  3]]\n",
      "[[25 14 55 93 12]]\n",
      "[[86.]]\n"
     ]
    }
   ],
   "source": [
    "# Vetores e Matrizes\n",
    "import numpy as np\n",
    "\n",
    "v = np.array([[2,4,5,9]])\n",
    "\n",
    "#Multiplicação de um vetor por um número\n",
    "v = np.array([[22, 12, 54, 89, 11]])\n",
    "w = 5*v\n",
    "print(w)\n",
    "\n",
    "#Subtração de vetores\n",
    "v = np.array([[22, 12, 54, 89, 11]])\n",
    "u = np.array([[18,4,39,61,8]])\n",
    "subtração = v-u\n",
    "print(subtração)\n",
    "\n",
    "#Soma de vetores\n",
    "t = np.array([[3,2,1,4,1]])\n",
    "soma = v+t\n",
    "print(soma)\n",
    "\n",
    "#Produto escalar(multiplicação de um vetor por outro resultando em um número)\n",
    "'''\n",
    "Os vetores são multiplicados e os valores somados para que sejá formado um número apenas.\n",
    "É uma operação muito útil para obtermos a média ponderada(média de um conjunto de dados onde cada um deles tem um determinado peso.)\n",
    "\"Em python o produto escalar é obtido pela função 'inner()'\n",
    "'''\n",
    "#Ex\n",
    "notas = np.array([[90,85,70,100]])\n",
    "pesos = np.array([[0.2,0.2,0.3,0.3]])\n",
    "media = np.inner(notas,pesos)\n",
    "print(media)"
   ]
  },
  {
   "cell_type": "code",
   "execution_count": 15,
   "metadata": {},
   "outputs": [
    {
     "name": "stdout",
     "output_type": "stream",
     "text": [
      "[[ 3  2 -1]\n",
      " [ 5  0 20]]\n",
      "--------------------\n",
      "[[431  21]\n",
      " [517  23]\n",
      " [648  26]]\n",
      "-------------\n",
      "[[440.   11. ]\n",
      " [528.   13.2]\n",
      " [660.   16.5]]\n",
      "----------------------------\n",
      "[[ 500  400]\n",
      " [1100 1050]]\n"
     ]
    }
   ],
   "source": [
    "#Matrizes\n",
    "'''\n",
    "No que se refere às matrizes, do ponto de vista matemático, uma matriz é um conjunto retangular formado por linhas e por colunas, representado entre colchetes ou entre parênteses.\n",
    "'''\n",
    "a = np.array([[3,2,-1],[5,0,20]])#matriz 2x3\n",
    "print(a)\n",
    "print('--------------------')\n",
    "'''\n",
    "Podemos multiplicar uma matriz por um número, somar ou subtrair matrizes que possuem o mesmo número de linhas e o mesmo número de colunas e multiplicar uma matriz por outra matriz, desde que o número de colunas da primeira matriz seja igual ao número de linhas da segunda matriz.\n",
    "'''\n",
    "f1 = np.array([[400,10],[480,12],[600,15]])\n",
    "f2 = np.array([[31,11],[37,11],[48,11]])\n",
    "custototal = f1+f2\n",
    "print(custototal)\n",
    "print('-------------')\n",
    "#adicionando porcentagem\n",
    "\n",
    "custoadicionalfabrica1 = 1.1*f1\n",
    "print(custoadicionalfabrica1)\n",
    "print('----------------------------')\n",
    "\n",
    "#Multiplicando matrizes com Matmul de numpy\n",
    "\n",
    "a = ([[3,1,3],[6,5,5]])\n",
    "b = ([[100,50],[50,100],[50,50]]) \n",
    "mult = np.matmul(a,b)\n",
    "print(mult)"
   ]
  },
  {
   "cell_type": "code",
   "execution_count": 4,
   "metadata": {},
   "outputs": [
    {
     "name": "stdout",
     "output_type": "stream",
     "text": [
      "[<matplotlib.lines.Line2D object at 0x000001AED0719480>]\n",
      "-----------------------------------\n",
      "65632 $custo mensal\n",
      "-----------------------------------\n"
     ]
    },
    {
     "data": {
      "image/png": "[encoded data removed]",
      "text/plain": [
       "<Figure size 640x480 with 1 Axes>"
      ]
     },
     "metadata": {},
     "output_type": "display_data"
    }
   ],
   "source": [
    "#Funções\n",
    "'''\n",
    "Considerando uma industria que produz teclados para uma determinado modelo de \n",
    "notbook. O custo unitário de produção corresponde a 28,00 e que mensalmente \n",
    "x unidades sao produzidas, pode-se expressar o custo mensal de produção C\n",
    "em função da quantidade de teclados produzidos.\n",
    "Precisasse multiplicar o custo unitário(28) pela quantidade(x) produzida.\n",
    ">>> C(x) = 28x\n",
    "'''\n",
    "#Gráfico para representação\n",
    "'''\n",
    "Para a construção precisamos gerar valores para x e, em\n",
    "seguida obtermos os respectivos valores de y, utilizando a expressão associada à\n",
    "função que representaremos.\n",
    "Então, utilziar o comando 'linspace' que gera um determinado número de valores\n",
    "igualmente espaçados em um determinado intervalo. Por exemplo: Se quisermos 100\n",
    "valores para x, variando de 0 a 10, basta digitar: x = np.linspace(0,10,100).\n",
    "\n",
    "Para obter os valores de y tais que y = 28*x, o comando plt(de matplotlib)\n",
    ".plot(x,y) gera o grafico e o comando plt.show() é utilizado para que o grá-\n",
    "fico possar ser apresentado corretamente.\n",
    "'''\n",
    "import numpy as np\n",
    "import matplotlib.pyplot as plt\n",
    "x = np.linspace(0,10,100)\n",
    "y = 28*x\n",
    "print(plt.plot(x,y))\n",
    "print('-----------------------------------')\n",
    "'''Supondo que a produção em um determinado mês foi de 2344 unidades, \n",
    "pode-se calcular o respectivo custo da seguinte forma:'''\n",
    "x = 2344#Sendo x é o número de unidades\n",
    "y = 28*x#função linear\n",
    "print(y,'$custo mensal')\n",
    "print('-----------------------------------')\n",
    "\n",
    "#Em geral uma função é chamada de linear quando tem a forma:\n",
    "y = a*x+b\n",
    "'''O termo 'a' é o coeficiente angular e indica a taxa de crescimento ou de\n",
    "decrecimento da função, e o 'b' é o coeficiente linear e indica o ponto\n",
    "no qual o gráfico da funlção intercepta o eixo y.'''\n"
   ]
  },
  {
   "cell_type": "code",
   "execution_count": 8,
   "metadata": {},
   "outputs": [
    {
     "name": "stdout",
     "output_type": "stream",
     "text": [
      " \n",
      "0\n",
      "---------------------\n",
      "         3         2\n",
      "-0.1746 x + 4.556 x - 34.87 x + 79.78\n",
      "---------------------\n",
      "      3     2\n",
      "-0.5 x + 3 x + 9.5 x + 68\n"
     ]
    }
   ],
   "source": [
    "#Polinômios\n",
    "'''\n",
    "Os polinômios estão relacionados a muitos problemas práticos. Podemos gerar im-\n",
    "agens por meio de polinômios a partir de pontos específicos. As fontes que ve\n",
    "mos na tela do celular, tablet ou computador, por exemplo, saõ geradas por po-\n",
    "linômios interpolares. A partir de um conjunto de pontos colocados adequadame-\n",
    "nte, por meio de polinômios os pontos são interligados e as fontes são obtidas.\n",
    "'''\n",
    "'''\n",
    "Fenômenos físicos, tais como o movimento de um objeto sendo lançado ao ar\n",
    "ou a trajetória relacionada a um salto, podem ser modelados por meio de \n",
    "polinômios. A partir de um conjunto de pontos, podemos obter facilmente o\n",
    "polinõmio que passa por estes pontos.\n",
    "'''\n",
    "#Função 'lagrange()' obten-se um polinômio que interpola um conj. de pontos\n",
    "\n",
    "from scipy.interpolate import *\n",
    "x =[]\n",
    "y = []\n",
    "p = lagrange(x,y)\n",
    "print(p)\n",
    "print('---------------------')\n",
    "\n",
    "'''\n",
    "Bastando atribuir valores de x com os respectivos valores de y relacionados aos \n",
    "dados do problema.\n",
    "Interpolando os pontos-> A(4,2), B(7,-1), C(10,12) e D(11,15), basta considerar-\n",
    "mos os valores de x e os de y:\n",
    "'''\n",
    "x = [4,7,10,11]\n",
    "y = [2,-1,12,15]\n",
    "p = lagrange(x,y)\n",
    "print(p)\n",
    "print('---------------------')\n",
    "#O polinômio interpolador é: p(x)= -0,1746x³+4,556x²-34,87+79,78\n",
    "'''\n",
    "Podemos utilizar um polinômio para a modelagem de diversos problemas reais. Considerando, por exemplo, que a concentração média de partículas por milhão (ppm) de um certo poluente em uma determinada região está se alterando com o passar do tempo e que os dados obtidos durante 4 anos foram\n",
    "\n",
    "Ano 1, 2, 3, 4\n",
    "\n",
    "Concentração 80, 95, 110, 122\n",
    "\n",
    "podemos obter o polinômio que interpola estes dados. Para isto, precisamos dos valores 1, 2, 3 e 4 associados a x e os respectivos valores 80, 95, 110 e 122 associados a y. Por meio do Python, temos:\n",
    "'''\n",
    "x = [1,2,3,4]\n",
    "y = [80,95,110,122]\n",
    "p = lagrange(x,y)\n",
    "print(p)\n",
    "#O polinômio interpolador obtido é: p(x)=-0,5x³+3x²+9,5x+68."
   ]
  },
  {
   "cell_type": "code",
   "execution_count": 9,
   "metadata": {},
   "outputs": [
    {
     "name": "stdout",
     "output_type": "stream",
     "text": [
      "      2\n",
      "-2.5 x + 12.5 x + 95\n"
     ]
    }
   ],
   "source": [
    "x = [-1,0,2]\n",
    "fx = [4,1,-1]\n",
    "p2 = lagrange(x,y)\n",
    "print(p2) "
   ]
  },
  {
   "cell_type": "code",
   "execution_count": null,
   "metadata": {},
   "outputs": [],
   "source": []
  }
 ],
 "metadata": {
  "kernelspec": {
   "display_name": "Python 3",
   "language": "python",
   "name": "python3"
  },
  "language_info": {
   "codemirror_mode": {
    "name": "ipython",
    "version": 3
   },
   "file_extension": ".py",
   "mimetype": "text/x-python",
   "name": "python",
   "nbconvert_exporter": "python",
   "pygments_lexer": "ipython3",
   "version": "3.10.11"
  },
  "orig_nbformat": 4
 },
 "nbformat": 4,
 "nbformat_minor": 2
}
