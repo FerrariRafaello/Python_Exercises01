{
 "cells": [
  {
   "cell_type": "code",
   "execution_count": 4,
   "id": "4e2322db",
   "metadata": {},
   "outputs": [
    {
     "name": "stdout",
     "output_type": "stream",
     "text": [
      "Name: rafa - Grades: [33.0] - Average: 33.00 - FINAL EXAM\n"
     ]
    }
   ],
   "source": [
    "students = []\n",
    "\n",
    "while True:\n",
    "    student_record = {\n",
    "        'name': '',\n",
    "        'grades': [],\n",
    "        'average': 0.0\n",
    "    }\n",
    "    student_record['name'] = input('Enter student name: ')\n",
    "    total = 0.0\n",
    "\n",
    "    # Collect grades for this student\n",
    "    while True:\n",
    "        grade = float(input(f\"Enter grade #{len(student_record['grades']) + 1}: \"))\n",
    "        student_record['grades'].append(grade)\n",
    "        total += grade\n",
    "        cont = input('Add another grade? [Y/N]: ').strip().upper()\n",
    "        if cont != 'Y':\n",
    "            break\n",
    "\n",
    "    student_record['average'] = total / len(student_record['grades'])\n",
    "    students.append(student_record)\n",
    "\n",
    "    cont_students = input('Add another student? [Y/N]: ').strip().upper()\n",
    "    if cont_students != 'Y':\n",
    "        break\n",
    "\n",
    "# Show results\n",
    "for student in students:\n",
    "    status = (\n",
    "        'APPROVED' if student['average'] >= 70.0\n",
    "        else 'FINAL EXAM' if student['average'] >= 30.0\n",
    "        else 'FAILED'\n",
    "    )\n",
    "    print(\n",
    "        f\"Name: {student['name']} - Grades: {student['grades']} - \"\n",
    "        f\"Average: {student['average']:.2f} - {status}\"\n",
    "    )"
   ]
  },
  {
   "cell_type": "code",
   "execution_count": null,
   "id": "69448d50",
   "metadata": {},
   "outputs": [],
   "source": [
    "queue = []\n",
    "\n",
    "while True:\n",
    "    print('\\n' * 10)\n",
    "    print('System Menu:')\n",
    "    print('1. Add customer to queue')\n",
    "    print('2. List people in queue')\n",
    "    print('3. Serve next customer')\n",
    "    print('4. Exit')\n",
    "    try:\n",
    "        option = int(input('Your choice: '))\n",
    "    except ValueError:\n",
    "        print('Please enter a valid option.')\n",
    "        continue\n",
    "\n",
    "    if option == 1:\n",
    "        name = input('Enter customer name: ')\n",
    "        rg = input('Enter customer RG: ')\n",
    "        customer = {'name': name, 'rg': rg}\n",
    "        queue.append(customer)\n",
    "    elif option == 2:\n",
    "        if queue:\n",
    "            print('\\nPeople in the queue:')n\n",
    "            for idx, customer in enumerate(queue, 1):\n",
    "                print(f\"{idx} - {customer['rg']} - {customer['name']}\")\n",
    "        else:\n",
    "            print('Queue is empty!')\n",
    "        input('Press <Enter> to return to menu.')\n",
    "    elif option == 3:\n",
    "        if queue:\n",
    "            customer = queue.pop(0)\n",
    "            print(f\"Serving customer: {customer['name']} - RG: {customer['rg']}\")\n",
    "            print(f\"{len(queue)} customers left in the queue.\")\n",
    "        else:\n",
    "            print('Queue is empty!')\n",
    "        input('Press <Enter> to return to menu.')\n",
    "    elif option == 4:\n",
    "        break\n",
    "    else:\n",
    "        print('Invalid option, try again.')\n",
    "\n",
    "print('Program ended by user.')"
   ]
  }
 ],
 "metadata": {
  "kernelspec": {
   "display_name": ".venv",
   "language": "python",
   "name": "python3"
  },
  "language_info": {
   "codemirror_mode": {
    "name": "ipython",
    "version": 3
   },
   "file_extension": ".py",
   "mimetype": "text/x-python",
   "name": "python",
   "nbconvert_exporter": "python",
   "pygments_lexer": "ipython3",
   "version": "3.8.10"
  }
 },
 "nbformat": 4,
 "nbformat_minor": 5
}
