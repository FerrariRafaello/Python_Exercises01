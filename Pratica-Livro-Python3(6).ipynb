{
 "cells": [
  {
   "cell_type": "code",
   "execution_count": 1,
   "metadata": {},
   "outputs": [
    {
     "name": "stdout",
     "output_type": "stream",
     "text": [
      "a\n"
     ]
    }
   ],
   "source": [
    "# Strings\n",
    "'''\n",
    "Strings são sequências de caracteres,\n",
    "podendo cara caracter ser acessado por um conchete[]:\n",
    "'''\n",
    "fruta = 'banana'\n",
    "letra = fruta[1]\n",
    "'''\n",
    "Tendo-se em vista que em python a as posições começam da posição 0,\n",
    "0 -> sendo o primeiro caracter da objeto referido(no caso:banana),que constitui a letra 'b',\n",
    "indo até o ultimo caracter apartir dessa contagem em '0'.\n",
    "'''\n",
    "print(letra)"
   ]
  },
  {
   "cell_type": "code",
   "execution_count": 2,
   "metadata": {},
   "outputs": [
    {
     "name": "stdout",
     "output_type": "stream",
     "text": [
      "6\n",
      "n\n"
     ]
    }
   ],
   "source": [
    "# Obrendo o comprimento de uma string\n",
    "'''\n",
    "Comprimento como já se sabe se configura como algo retilíneo(reto),\n",
    "no caso do comprimento de uma palavra(suas letras).\n",
    "Em python, a obtenção da quantidade de caracteres(comprimento),\n",
    "provem de uam função, chamada: 'len()', que retorna essa quantidade.\n",
    "'''\n",
    "comprimento = len(fruta)\n",
    "print(comprimento)\n",
    "# Uma forma de acessar as letras(caracteres) é indexando(com colchetes) o comprimento e especificando \n",
    "# a numeração correspondente com a letra que você deseja:\n",
    "penultima_letra = fruta[comprimento-2]# Menos 2 contasse a ultima letra como -1, a penultima como -2 e assim por diante.\n",
    "print(penultima_letra)"
   ]
  },
  {
   "cell_type": "code",
   "execution_count": null,
   "metadata": {},
   "outputs": [
    {
     "name": "stdout",
     "output_type": "stream",
     "text": [
      "b\n",
      "a\n",
      "n\n",
      "a\n",
      "n\n",
      "a\n",
      "-----------------------------------------\n",
      "b\n",
      "a\n",
      "n\n",
      "a\n",
      "n\n",
      "a\n",
      "-----------------------------------------\n",
      "a\n",
      "n\n",
      "a\n",
      "n\n",
      "a\n",
      "b\n"
     ]
    }
   ],
   "source": [
    "# Travessia de strings utilizando laço:\n",
    "'''\n",
    "Nessa etapa, adentra-se o processamento de strings, onde para ocorrer \n",
    "é necessaria a ação de um laço de repetição(while, for):\n",
    "'''\n",
    "# Travessia com while:\n",
    "from audioop import reverse\n",
    "\n",
    "\n",
    "indice = 0 # Variável criada para contar as repetições dentro do laço\n",
    "while indice < len(fruta):\n",
    "    letra = fruta[indice]\n",
    "    print(letra)\n",
    "    indice += 1\n",
    "\n",
    "print('-----------------------------------------')\n",
    "\n",
    "# Travessia com laço for:\n",
    "for char in fruta:\n",
    "    print(char)\n",
    "\n",
    "print('-----------------------------------------')\n",
    "\n",
    "# Ex1:\n",
    "topanga = fruta[::-1]\n",
    "indi = 0\n",
    "while indi < len(topanga):\n",
    "    letr = topanga[indi]\n",
    "    print(letr)\n",
    "    indi +=1"
   ]
  },
  {
   "cell_type": "code",
   "execution_count": null,
   "metadata": {},
   "outputs": [
    {
     "name": "stdout",
     "output_type": "stream",
     "text": [
      "Arrascaeta\n",
      "sata\n"
     ]
    }
   ],
   "source": [
    "# Segmento de strings\n",
    "'''\n",
    "Também chamdo de 'slice', o segmento de string é parecido\n",
    "com a seleção única de um carcter específico em uma palavra:\n",
    "'''\n",
    "s = 'Arrascaetaa'\n",
    "print(s[0:10]) # Técnica de fatiamento, basicamente: me de a fatia que vai de 0(A) até 10(a).\n",
    "'''\n",
    "O operador no fatiamento retorna na esquerda:\n",
    "onde começar, depois dos primeiros ':', onde parar, se acerscentar mais um ':'\n",
    "depois você dita de qunatos em quantos caracteres o operador deve pular para efetuar o print.\n",
    "'''\n",
    "print(s[4:13:2]) # Bas: comece pela 4 elemnto, vá até o 13 pulando de 2 em 2.\n",
    "\n",
    "# Ex2: Resposta: A 'fruta[:] -> a string desde o primeiro até o último elemento."
   ]
  },
  {
   "cell_type": "code",
   "execution_count": 44,
   "metadata": {},
   "outputs": [
    {
     "name": "stdout",
     "output_type": "stream",
     "text": [
      "éva\n"
     ]
    }
   ],
   "source": [
    "# Strings não imutáveis.:\n",
    "'''\n",
    "Para poder alterar uma string é necessária uma outra metodologia\n",
    "sem ser a que convêncionalmente pensamos: palavra = 'uva'\n",
    "palavra[0]= 'é'\n",
    "fatidicamente irá gerar um erro TypeError, para se fazer essa execução,\n",
    "é necessário um outro intermédio:\n",
    "'''\n",
    "palavra = 'uva'\n",
    "nova_palavra = 'é' + palavra[1:]\n",
    "print(nova_palavra)"
   ]
  },
  {
   "cell_type": "code",
   "execution_count": null,
   "metadata": {},
   "outputs": [
    {
     "name": "stdout",
     "output_type": "stream",
     "text": [
      "3\n"
     ]
    },
    {
     "data": {
      "text/plain": [
       "0"
      ]
     },
     "execution_count": 53,
     "metadata": {},
     "output_type": "execute_result"
    }
   ],
   "source": [
    "# Laços e contagem.:\n",
    "'''\n",
    "Chamado de computação contadora, uma variável aleatória\n",
    "criada por você será à contadora(iniciada em 0)-> var = 0,\n",
    "e então incrmentada cada vez que algo for implementado, ou cada vez que uma\n",
    "iteração ocorra no laço.\n",
    "O exemplo a seguir faz o uso da contagem para identificar a qunatidade de 'a' que\n",
    "é encontrada durante a iteração da palavra arancaramapernadaveiadafesta:\n",
    "'''\n",
    "palavra  = 'banana'\n",
    "contagem = 0\n",
    "for letra in palavra:# letra assume cada letra da palavra para cada vez que o laço passa por um caracter da palavra\n",
    "    if letra == 'a': # Para cada 'a' que contiver na palavra, a variavel contadora com +1\n",
    "        contagem+=1\n",
    "print(contagem)\n",
    "\n",
    "# Exercício3:\n",
    "def contador():\n",
    "    contadora = 0\n",
    "    word = input('Digite a palavra:')\n",
    "    for letra in word:\n",
    "        if letra == 'a':\n",
    "            contadora +=1\n",
    "    return contadora\n",
    "contador()"
   ]
  },
  {
   "cell_type": "code",
   "execution_count": 54,
   "metadata": {},
   "outputs": [
    {
     "name": "stdout",
     "output_type": "stream",
     "text": [
      "True\n",
      "False\n"
     ]
    }
   ],
   "source": [
    "# Operador 'in':\n",
    "'''\n",
    "Em muitas vezes na programação, será necessário verificar a\n",
    "veracidade de algum elemento... Se ele está em algum local, se ele é parte\n",
    "de alguma coisa, se alguma coisa contém esse elemento, e para isso o método 'in'\n",
    "facilita essa verificação retornando True se o que for sofrer verificação está dentro do que precisa ser verificado:\n",
    "'''\n",
    "print('a' in palavra)\n",
    "print('c' in palavra)"
   ]
  },
  {
   "cell_type": "code",
   "execution_count": 60,
   "metadata": {},
   "outputs": [
    {
     "name": "stdout",
     "output_type": "stream",
     "text": [
      "Certo, bananas\n",
      "Sua palavra Banana vem antes de banana.\n"
     ]
    }
   ],
   "source": [
    "# Comparação de strings.:\n",
    "'''\n",
    "Nessa etapa se verifica a igualdade de ambas strings que for querer verificar duplicidade:\n",
    "'''\n",
    "if palavra =='banana':\n",
    "    print('Certo, bananas')\n",
    "'''\n",
    "Outras maneiras de comparações são úteis para organizar palavras em ordem alfabética:\n",
    "'''\n",
    "if palavra < 'bananaa':\n",
    "    print(f'Sua palavra {palavra.capitalize()} vem antes de banana.')\n",
    "elif palavra > 'banana':\n",
    "    print(f'Sua palavra {palavra.capitalize()} vem antes de banana.')\n",
    "else:\n",
    "    print('Certo, bananas!')"
   ]
  },
  {
   "cell_type": "code",
   "execution_count": 64,
   "metadata": {},
   "outputs": [
    {
     "name": "stdout",
     "output_type": "stream",
     "text": [
      "<class 'str'>\n",
      "['__add__', '__class__', '__contains__', '__delattr__', '__dir__', '__doc__', '__eq__', '__format__', '__ge__', '__getattribute__', '__getitem__', '__getnewargs__', '__gt__', '__hash__', '__init__', '__init_subclass__', '__iter__', '__le__', '__len__', '__lt__', '__mod__', '__mul__', '__ne__', '__new__', '__reduce__', '__reduce_ex__', '__repr__', '__rmod__', '__rmul__', '__setattr__', '__sizeof__', '__str__', '__subclasshook__', 'capitalize', 'casefold', 'center', 'count', 'encode', 'endswith', 'expandtabs', 'find', 'format', 'format_map', 'index', 'isalnum', 'isalpha', 'isascii', 'isdecimal', 'isdigit', 'isidentifier', 'islower', 'isnumeric', 'isprintable', 'isspace', 'istitle', 'isupper', 'join', 'ljust', 'lower', 'lstrip', 'maketrans', 'partition', 'removeprefix', 'removesuffix', 'replace', 'rfind', 'rindex', 'rjust', 'rpartition', 'rsplit', 'rstrip', 'split', 'splitlines', 'startswith', 'strip', 'swapcase', 'title', 'translate', 'upper', 'zfill']\n",
      "Help on method_descriptor:\n",
      "\n",
      "capitalize(self, /)\n",
      "    Return a capitalized version of the string.\n",
      "    \n",
      "    More specifically, make the first character have upper case and the rest lower\n",
      "    case.\n",
      "\n",
      "None\n"
     ]
    }
   ],
   "source": [
    "# Métodos da String\n",
    "'''\n",
    "Essa conjectura atua na demonstração dos métodos disponíveis em um objeto.\n",
    "Para isso é necesária a utilização do método 'dir'.:\n",
    "'''\n",
    "coisa = 'Olá Mundo!'\n",
    "print(type(coisa))\n",
    "print(dir(coisa))\n",
    "print(help(str.capitalize))"
   ]
  },
  {
   "cell_type": "code",
   "execution_count": null,
   "metadata": {},
   "outputs": [
    {
     "name": "stdout",
     "output_type": "stream",
     "text": [
      "1\n",
      "2\n",
      "4\n"
     ]
    }
   ],
   "source": [
    "# Método 'find'\n",
    "'''\n",
    "Será listado agora um dos métodos para se trabalhar com strings, mas se você quiser ser genial e trabalhar\n",
    "na NASA ou como coadjuvante de Elon Musk, basta somente saber tudo esse assunto e tudo sobre os outros, nada\n",
    "que 640 dias durante 8 horas em cada dia estudando não te façam saber.\n",
    "'''\n",
    "'''\n",
    "Esse método é um método 'detetive' que procura pela posição de uma string dentro de outra.:\n",
    "'''\n",
    "indice = palavra.find(\"a\")\n",
    "print(indice)\n",
    "indice = palavra.find(\"na\")\n",
    "print(indice)\n",
    "indice = palavra.find(\"na\",3) # O número 3 demonstra por onde se deve começar a busca(no caso pelo 3 elemento)\n",
    "print(indice)"
   ]
  },
  {
   "cell_type": "code",
   "execution_count": 82,
   "metadata": {},
   "outputs": [
    {
     "name": "stdout",
     "output_type": "stream",
     "text": [
      "21\n",
      "31\n",
      "uct.ac.za\n",
      "uct.ac.za\n",
      "From stephen.marquard@uct.ac.za Sat Jan 5 09:14:16 2008\n"
     ]
    }
   ],
   "source": [
    "# Particionando strings.:\n",
    "'''\n",
    "Frequentemente, nós precisamos analisar o que há dentro de uma string e encontrar\n",
    "uma substring. Por exemplo, se nos for apresentada uma sequência de linhas\n",
    "formatadas da seguinte forma:\n",
    "From stephen.marquard@uct.ac.za Sat Jan 5 09:14:16 2008\n",
    "e nós quisermos particionar somente a segunda metade do endereço (i.e.,uct.ac.za)\n",
    "de cada linha, podemos fazer isso utilizando o método find e o fatiamento de\n",
    "strings.\n",
    "Primeiramente, acharemos a posição do sinal arroba (@) na string. Depois, acharemos a posição do primeiro espaço \n",
    "após o arroba. Só então utilizaremos o fatiamento\n",
    "para extrair a parte da string que estamos buscando.\n",
    "'''\n",
    "data = 'From stephen.marquard@uct.ac.za Sat Jan 5 09:14:16 2008'\n",
    "atpos = data.find('@')\n",
    "print(atpos)\n",
    "supos = data.find(' ',atpos)# ' '-> caracteriza o primeiro espaço da palavra\n",
    "print(supos)\n",
    "host = data[atpos+1:supos]\n",
    "print(host)\n",
    "easy = data[22:31]\n",
    "print(easy)\n",
    "print(data.strip(' '))"
   ]
  },
  {
   "cell_type": "code",
   "execution_count": null,
   "metadata": {},
   "outputs": [
    {
     "name": "stdout",
     "output_type": "stream",
     "text": [
      "Eu estava no deserto e vi 9999 camelos\n",
      "Eu estava no deserto e vi 9999 camelos\n",
      "Eu estava no deserto e vi 9999.00 camelos\n",
      "Eu estava no deserto e vi 3.14159 camelos\n",
      "Eu estava no deserto e vi 3.14 camelos\n",
      "Eu estava no deserto e vi 3 camelos\n",
      "Eu estava no deserto e vi 3.1415926 camelos\n"
     ]
    }
   ],
   "source": [
    "# Operador de formatação.:\n",
    "'''\n",
    "Nessa parte é possivel construir strings(linhas te texto)\n",
    "porém anexando algo que contém em uma variável nessa string:\n",
    "'''\n",
    "camelos = 9999\n",
    "camelo  = 'camelos'\n",
    "camel   = 3.1415926\n",
    "print('Eu estava no deserto e vi %d camelos' % camelos) # %d 'decimais'\n",
    "print('Eu estava no deserto e vi 9999 %s' % camelo) # %s para 'strings'\n",
    "print('Eu estava no deserto e vi %.2f camelos' % camelos) # Para a definição da quantia de casas decimais\n",
    "print('Eu estava no deserto e vi %g camelos' % camel) # Para ponto flutuante(real)\n",
    "print('Eu estava no deserto e vi %.2f camelos' % camel)\n",
    "print('Eu estava no deserto e vi %d camelos' % camel)\n",
    "print('Eu estava no deserto e vi %s camelos' % camel)"
   ]
  },
  {
   "cell_type": "code",
   "execution_count": 108,
   "metadata": {},
   "outputs": [
    {
     "name": "stdout",
     "output_type": "stream",
     "text": [
      "18\n",
      "0.8475\n",
      "0.8475 <class 'float'>\n"
     ]
    }
   ],
   "source": [
    "# Ex5:\n",
    "strs = 'X-DSPAM-Confidence:0.8475'\n",
    "finaly = strs.find(':')\n",
    "print(finaly)\n",
    "cut = strs[19:]\n",
    "print(cut)\n",
    "floa = float(cut)\n",
    "print(floa,type(floa))"
   ]
  }
 ],
 "metadata": {
  "kernelspec": {
   "display_name": "Python 3",
   "language": "python",
   "name": "python3"
  },
  "language_info": {
   "codemirror_mode": {
    "name": "ipython",
    "version": 3
   },
   "file_extension": ".py",
   "mimetype": "text/x-python",
   "name": "python",
   "nbconvert_exporter": "python",
   "pygments_lexer": "ipython3",
   "version": "3.10.9"
  },
  "orig_nbformat": 4,
  "vscode": {
   "interpreter": {
    "hash": "ce52f2941166ede35db5d77fef71be126519e15341ee8857c5d250c1cc903509"
   }
  }
 },
 "nbformat": 4,
 "nbformat_minor": 2
}
