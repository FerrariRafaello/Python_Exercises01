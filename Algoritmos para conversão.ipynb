{
 "cells": [
  {
   "cell_type": "code",
   "execution_count": 6,
   "metadata": {},
   "outputs": [
    {
     "name": "stdout",
     "output_type": "stream",
     "text": [
      "O número 7 convertido em binário é:111\n"
     ]
    }
   ],
   "source": [
    "# conversão de decimal em binário\n",
    "#Forma simples:\n",
    "'''\n",
    "numero = int(input('Informe o número inteiro:'))\n",
    "print(f'O bináriocorrespondente é : {bin(numero)[2:]})\n",
    "'''\n",
    "#minha forma:\n",
    "\n",
    "def captaçãoeconversão():\n",
    "    lista = []\n",
    "    numero = input('Digite o número para ser convertido em binário')\n",
    "    try:\n",
    "        numero = int(numero)\n",
    "        dividendo = numero\n",
    "        quociente = 1\n",
    "    except ValueError:\n",
    "        print('Digite apenas números')\n",
    "\n",
    "    while quociente >=1:\n",
    "        resto =  dividendo%2\n",
    "        lista.insert(0,resto)\n",
    "        quociente = dividendo//2\n",
    "        dividendo = quociente\n",
    "    binario = ''.join([str(item) for item in lista])\n",
    "    print(f'O número {numero} convertido em binário é:{binario}')\n",
    "captaçãoeconversão()"
   ]
  },
  {
   "cell_type": "code",
   "execution_count": 13,
   "metadata": {},
   "outputs": [
    {
     "name": "stdout",
     "output_type": "stream",
     "text": [
      "O número 12 em hexadecimal passa a ser: C\n"
     ]
    }
   ],
   "source": [
    "#decimal para hexadecimal\n",
    "conversion_table = {0: '0', 1: '1', 2: '2', 3: '3',\n",
    "                    4: '4', 5: '5', 6: '6', 7: '7',\n",
    "                    8: '8', 9: '9', 10: 'A', 11: 'B',\n",
    "                    12: 'C', 13: 'D', 14: 'E', 15: 'F'}\n",
    "  \n",
    "  \n",
    "\n",
    "def decimalToHexadecimal(decimal):\n",
    "    try:\n",
    "        decimal = int(decimal)\n",
    "    except ValueError:\n",
    "        print('Digite apenas números!')\n",
    "\n",
    "    if(decimal <= 0):\n",
    "        return ''\n",
    "    remainder = decimal % 16\n",
    "    return decimalToHexadecimal(decimal//16) + conversion_table[remainder]\n",
    "    \n",
    "def conversor():\n",
    "        decimal = input('Digite o numero para conversão')\n",
    "        print(f'O número {decimal} em hexadecimal passa a ser:', decimalToHexadecimal(decimal))\n",
    "        \n",
    "\n",
    "conversor()\n"
   ]
  },
  {
   "cell_type": "code",
   "execution_count": null,
   "metadata": {},
   "outputs": [],
   "source": []
  }
 ],
 "metadata": {
  "kernelspec": {
   "display_name": "Python 3",
   "language": "python",
   "name": "python3"
  },
  "language_info": {
   "codemirror_mode": {
    "name": "ipython",
    "version": 3
   },
   "file_extension": ".py",
   "mimetype": "text/x-python",
   "name": "python",
   "nbconvert_exporter": "python",
   "pygments_lexer": "ipython3",
   "version": "3.10.11"
  },
  "orig_nbformat": 4
 },
 "nbformat": 4,
 "nbformat_minor": 2
}
