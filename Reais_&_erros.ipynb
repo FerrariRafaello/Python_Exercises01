{
 "cells": [
  {
   "cell_type": "code",
   "execution_count": null,
   "metadata": {},
   "outputs": [
    {
     "name": "stdout",
     "output_type": "stream",
     "text": [
      "5.8575000000e+02\n",
      "3.5388210000e+04\n"
     ]
    }
   ],
   "source": [
    "#Aritmética de ponto flutuante\n",
    "'''\n",
    "Para a soma, primeiro comparamos os expoentes dos números que estão sendo utilizados na operação, se os expoentes forem iguais, basta realizar a operação de adição.\n",
    "\n",
    "Caso tenha-se expoentes diferentes, ajustamos o de menor valor de modo a obtermos um número equivalente cujo expoente é igual ao de maior valor.\n",
    "Após a realização da soma, efetuamos a normalização quando necessário, ajustanto a mantissa e o expoente de modo a estarmos com o resultado na notação científica normalizada.\n",
    "'''\n",
    "#Ex:\n",
    "a = 2.3421e+02\n",
    "b = 3.5154e+02\n",
    "c = b+a\n",
    "print('%.10e' % c)\n",
    "#OBS: Se a soma não for posta dentro de uma variável, perpetuará em erro se for posto no print.\n",
    "\n",
    "#Expoentes diferentes>>> ajustar o menor valor para igualar ao expoente de maior\n",
    "\n",
    "a = 2.3421e+2\n",
    "b = 3.5154e+4\n",
    "'''\n",
    "Neste caso ficaria> a = 0,023421 .10**4 + b= 3.5154 .10**4,\n",
    "resultando em 3.538821.10**4\n",
    "No python o shell já faz a conta sem necessidade de tal conversão exponencial.\n",
    "\\-> porém é necessário colocar a conta em uma variável separada.\n",
    "'''\n",
    "c = a+b\n",
    "print(f'{c:.10e}')"
   ]
  },
  {
   "cell_type": "code",
   "execution_count": 10,
   "metadata": {},
   "outputs": [
    {
     "name": "stdout",
     "output_type": "stream",
     "text": [
      "-1.1733000000e+02\n"
     ]
    }
   ],
   "source": [
    "'''\n",
    "A subtração segue o mesmo princípio adotado na soma. Dados dois a serem subtraídos, inicialmente comparamos os expoentes destes números.\n",
    "Caso os expoentes sejam iguais, basta realizar a subtração. Caso tenhamos expoentes diferentes, ajustamos o de menor valor de modo a obtermos um número equivalente cujo expoente é igual ao de maior valor. Após a realização da subtração, efetuamos a normalização quando necessário.\n",
    "'''\n",
    "#Ex\n",
    "a = 2.3421e+2\n",
    "b = 3.5154e+2\n",
    "c = a-b\n",
    "print('%.10e' % c)"
   ]
  },
  {
   "cell_type": "code",
   "execution_count": null,
   "metadata": {},
   "outputs": [
    {
     "name": "stdout",
     "output_type": "stream",
     "text": [
      "8.2334183400e+04\n"
     ]
    }
   ],
   "source": [
    "'''\n",
    "Para a multiplicação, multiplicamos as mantissas e somamos os expoentes. Após a realização da operação precisamos normalizar(x,...) o resultado caso sejá necessário.\n",
    "produto == multiplicação\n",
    "'''\n",
    "a1 = 2.3421\n",
    "b1 = 3.5154\n",
    "#é equivalente multiplicarmos primeiro os valores, depois os expoentes\n",
    "c1 = a*b\n",
    "c1_0 = 10**2 * 10**2\n",
    "\n",
    "\n",
    "a2 = 2.3421e+2\n",
    "b2 = 3.5154e+2\n",
    "c2 = a2*b2\n",
    "print(f'{c2:.10e}')"
   ]
  },
  {
   "cell_type": "code",
   "execution_count": 20,
   "metadata": {},
   "outputs": [
    {
     "name": "stdout",
     "output_type": "stream",
     "text": [
      "6.6623997269e-01\n",
      "1.600000e+03\n"
     ]
    }
   ],
   "source": [
    "'''\n",
    "Para efetuarmos a divisão, precisa-se dividir as mantissas e subtrair os expoentes.\n",
    "'''\n",
    "a3 = 2.3421e+2\n",
    "b3 = 3.5154e+2\n",
    "c3 = a3/b3\n",
    "print('%.10e' % c3)\n",
    "\n",
    "#Considerando a = 8e+7 e b = 5e+4...\n",
    "'''\n",
    "Neste caso é apenas necessário dividir o primeiro pelo segundo e subtraindo os expoentes.\n",
    "1.6e+3\n",
    "'''\n",
    "a4 = 8e+7 \n",
    "b4 = 5e+4\n",
    "c4 = a4/b4\n",
    "print('%10e' % c4)"
   ]
  },
  {
   "cell_type": "code",
   "execution_count": null,
   "metadata": {},
   "outputs": [
    {
     "name": "stdout",
     "output_type": "stream",
     "text": [
      "0.49999999999999994\n"
     ]
    }
   ],
   "source": [
    "#O ângulo em radianos corresponde ao ângulo em graus multiplicado por pi e dividido por 180.\n",
    "\n",
    "from numpy import pi\n",
    "#É preciso calcular o fatorial...\n",
    "from math import factorial\n",
    "\n",
    "#Após a conversão, precisamos utilizar o laço 'for' para fazer a sequência de somas necessárias para o cálculo do seno do ângulo.\n",
    "\n",
    "def calculoseno():\n",
    "    x_graus = float(input('Informe o valor do ângulo, em graus:'))\n",
    "    termos  = int(input('Informe o número de termos do somatório:'))\n",
    "    x_radianos = pi*x_graus/180\n",
    "    seno = 0\n",
    "    \n",
    "    for n  in range(termos):\n",
    "        seno = seno+(-1)**n*x_radianos**(2*n+1)/factorial(2*n+1)\n",
    "    print(seno)\n",
    "\n",
    "'''\n",
    "Como exemplo, vamos calcular o seno de 30°.\n",
    "Sabendo que o valor exato para o sen30° é 0,5.\n",
    "'''\n",
    "#Considerando um somatório com 2 termos temos:\n",
    "#\\-> QUANTO MAIS TERMOS TIVER, MAS EXATO SERA O RESULTADO\n",
    "calculoseno()"
   ]
  },
  {
   "cell_type": "code",
   "execution_count": 26,
   "metadata": {},
   "outputs": [
    {
     "name": "stdout",
     "output_type": "stream",
     "text": [
      "Infelizmente ocorreu um erro! Não é possível realizar uma divisão por zero.\n"
     ]
    }
   ],
   "source": [
    "'''\n",
    "Na computação, além do overflow, há outros tipos de operações que geram erros onde há uma interrupção do processamento: o underflow onde é gerado um valor muito menor do que a capacidade de representação do sistema, a divisão por zero (ou por um número extremamente próximo de zero) ou um número inválido, representado por NaN (not a number), que surge a partir de operações matematicamente impossíveis tais como zero dividido por zero, raiz quadrada de um número negativo, entre outras possibilidades.\n",
    "'''\n",
    "#Tratamento de erros:\n",
    "'''\n",
    "Erros podem interromper de forma indesejada o processamento de informações.\n",
    "Em diversas linguagens de programação, há formas de realizarmos o tratamento de erros de modo a não interromper o processamento ou de gerar uma mensagem mais amigável ao usúario..:\n",
    "'''\n",
    "x = 10\n",
    "y = 0\n",
    "\n",
    "#Utilizando a metodologia 'try' 'except' para transparecer melhor o erro:\n",
    "try:\n",
    "    x/y\n",
    "except ZeroDivisionError:\n",
    "    print('Infelizmente ocorreu um erro! Não é possível realizar uma divisão por zero.')"
   ]
  }
 ],
 "metadata": {
  "kernelspec": {
   "display_name": "Python 3",
   "language": "python",
   "name": "python3"
  },
  "language_info": {
   "codemirror_mode": {
    "name": "ipython",
    "version": 3
   },
   "file_extension": ".py",
   "mimetype": "text/x-python",
   "name": "python",
   "nbconvert_exporter": "python",
   "pygments_lexer": "ipython3",
   "version": "3.10.11"
  },
  "orig_nbformat": 4
 },
 "nbformat": 4,
 "nbformat_minor": 2
}
