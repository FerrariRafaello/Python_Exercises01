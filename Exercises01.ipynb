{
 "cells": [
  {
   "cell_type": "code",
   "execution_count": 3,
   "metadata": {},
   "outputs": [
    {
     "name": "stdout",
     "output_type": "stream",
     "text": [
      "[6, 6, 5, 4, 8]\n",
      "[4, 5, 6, 6, 8]\n"
     ]
    }
   ],
   "source": [
    "# Exercício1:\n",
    "i = 0\n",
    "numeros = []\n",
    "while i < 5:\n",
    "    numero = input('Digite um número:')\n",
    "    numeros.append(int(numero))\n",
    "    i+=1\n",
    "\n",
    "print(numeros)\n",
    "numeros.sort()# Não pode atribuir esse método dentro de uma variável\n",
    "print(numeros)\n"
   ]
  },
  {
   "cell_type": "code",
   "execution_count": 6,
   "metadata": {},
   "outputs": [
    {
     "name": "stdout",
     "output_type": "stream",
     "text": [
      "[5, 3, 4, 1, 2, 6, 9, 8, 7, 5]\n",
      "[5, 7, 8, 9, 6, 2, 1, 4, 3, 5]\n"
     ]
    }
   ],
   "source": [
    "# Exercício2:\n",
    "j = 0\n",
    "numbers = []\n",
    "while j < 10:\n",
    "    number = input('Digite um número:')\n",
    "    numbers.append(int(number))\n",
    "    j+=1\n",
    "print(numbers)\n",
    "print(numbers[::-1])\n",
    "\n",
    "\n",
    "\n"
   ]
  },
  {
   "cell_type": "code",
   "execution_count": 57,
   "metadata": {},
   "outputs": [
    {
     "name": "stdout",
     "output_type": "stream",
     "text": [
      "Suas notas foram:\n",
      "nota 1: 1.0\n",
      "nota 2: 2.0\n",
      "nota 3: 4.0\n",
      "nota 4: 8.0\n",
      "-----------------\n"
     ]
    },
    {
     "data": {
      "text/plain": [
       "'E sua média foi: 3.2'"
      ]
     },
     "execution_count": 57,
     "metadata": {},
     "output_type": "execute_result"
    }
   ],
   "source": [
    "# Exercício3:\n",
    "import numpy as np\n",
    "def boletim():\n",
    "    media = []\n",
    "    notas = dict()\n",
    "    visco = True\n",
    "    t = 0\n",
    "    print('Suas notas foram:')\n",
    "    while(visco):\n",
    "        t+=1\n",
    "        nota = float(input(f'Digite a nota {t}:'))\n",
    "        media.append(nota)\n",
    "        notas= (f'nota {t}: {nota}'.format(nota,nota))\n",
    "        if t == 5:\n",
    "            visco = False\n",
    "        else:\n",
    "            print(notas)\n",
    "    print('-----------------')            \n",
    "    return 'E sua média foi de: {}'.format(np.mean(media))\n",
    "boletim()"
   ]
  },
  {
   "cell_type": "code",
   "execution_count": 81,
   "metadata": {},
   "outputs": [
    {
     "name": "stdout",
     "output_type": "stream",
     "text": [
      "Sua palavra foi:  rato\n",
      "Após a modificação ficou: rt\n"
     ]
    }
   ],
   "source": [
    "# Exercício4:\n",
    "'''\n",
    "Nesta etapa eu utilizei o método 'translate', essa função\n",
    "remove certos caracters de uma string, não funciona com listas,\n",
    "seguido de (str.maketrans), porque após a mapeação de translate,\n",
    "uma tabela de tradução pode ser criada usando 'make...'\n",
    "'''\n",
    "\n",
    "def retirando_vogais():\n",
    "    vogais = 'aeiou'\n",
    "    consoantes = []\n",
    "    palavra = input('Digite uma palavra: ')\n",
    "    print('Sua palavra foi: ', palavra)\n",
    "    reset = palavra.translate(str.maketrans('','',vogais))\n",
    "    consoantes.append(reset)\n",
    "    print('Após a modificação ficou:', reset)    \n",
    "\n",
    "   \n",
    "retirando_vogais()   \n",
    "\n"
   ]
  },
  {
   "cell_type": "code",
   "execution_count": 97,
   "metadata": {},
   "outputs": [
    {
     "data": {
      "text/plain": [
       "('Números totais   : [1, 2, 3]',\n",
       " 'Números pares    : [2]',\n",
       " 'Números impares  : [1, 3]')"
      ]
     },
     "execution_count": 97,
     "metadata": {},
     "output_type": "execute_result"
    }
   ],
   "source": [
    "# Exercício5:\n",
    "\n",
    "def impares_pares():\n",
    "    impares = []\n",
    "    pares   = []\n",
    "    total   = []\n",
    "    o = 0\n",
    "    while o < 3:\n",
    "        n = int(input(\"Digite um número:\"))\n",
    "        total.append(n)\n",
    "        if n % 2 == 0:\n",
    "            pares.append(n)\n",
    "        elif n % 2 != 0:\n",
    "                impares.append(n)\n",
    "        else:\n",
    "            pass\n",
    "        o+=1\n",
    "    return ('Números totais   : {}'.format(total),\n",
    "            'Números pares    : {}'.format(pares),\n",
    "            'Números impares  : {}'.format(impares))\n",
    "impares_pares()"
   ]
  },
  {
   "cell_type": "code",
   "execution_count": 21,
   "metadata": {},
   "outputs": [
    {
     "name": "stdout",
     "output_type": "stream",
     "text": [
      "continuando\n",
      "continuando\n",
      "{'reprovados': 2, 'aprovados': 0, 'totais': 3}\n",
      "Aprovados: [] Reprovados: [['a', 1.0], ['b', 2.0], ['c', 4.0]] Totais: [['a', 1.0], ['b', 2.0], ['c', 4.0]]\n"
     ]
    }
   ],
   "source": [
    "# Exercício6:\n",
    "'''\n",
    "Contagem do dicpionario dando errado.\n",
    "'''\n",
    "aprovados = []\n",
    "reprovados= []\n",
    "totais    = []\n",
    "def notas_acima_7():  \n",
    "    a = 0\n",
    "    r = 0\n",
    "    t = 0\n",
    "    felipe = True\n",
    "    i = 0\n",
    "\n",
    "    while(felipe):\n",
    "        t+=1\n",
    "        turmadotiofelipe =({'reprovados' : r,\n",
    "                            'aprovados'  : a,\n",
    "                            'totais'     : t})\n",
    "        i+=1\n",
    "        aluno    = input(f'Digite o nome no aluno {i}:')\n",
    "        nota     = float(input(f'Digite a nota do aluno {i}:'))\n",
    "        encerrar = input('Deseja encerrar?')\n",
    "        if encerrar == 's':\n",
    "            felipe = False\n",
    "        else:\n",
    "            print('continuando')\n",
    "        totais.append([aluno,nota])\n",
    "\n",
    "       \n",
    "        if nota < 7:\n",
    "            r+=1\n",
    "            reprovados.append([aluno,nota])\n",
    "        elif nota >= 7:\n",
    "            a+=1\n",
    "            aprovados.append([aluno,nota])  \n",
    "        else:\n",
    "            print(\"Um aluno ou nota não informados\")\n",
    "    return print(turmadotiofelipe)\n",
    "    \n",
    "notas_acima_7()\n",
    "print('Aprovados:',aprovados,\n",
    "      'Reprovados:',reprovados,\n",
    "      'Totais:',totais)\n",
    "\n"
   ]
  },
  {
   "cell_type": "code",
   "execution_count": 4,
   "metadata": {},
   "outputs": [
    {
     "name": "stdout",
     "output_type": "stream",
     "text": [
      "15.0\n",
      "120.0\n",
      "[1.0, 2.0, 3.0, 4.0, 5.0]\n"
     ]
    }
   ],
   "source": [
    "# Execício7:\n",
    "import numpy as np\n",
    "soma = []\n",
    "mult = []\n",
    "num  = []\n",
    "i = 0\n",
    "while i < 5:\n",
    "    i+=1\n",
    "    n = float(input('Digite um número'))\n",
    "    soma.append(n)\n",
    "    mult.append(n)\n",
    "    num.append(n)\n",
    "    \n",
    "    if i == 5:\n",
    "        s = sum(soma)\n",
    "        print(s)\n",
    "        r = np.prod(mult)\n",
    "        print(r)    \n",
    "        print(num)"
   ]
  },
  {
   "cell_type": "code",
   "execution_count": 5,
   "metadata": {},
   "outputs": [
    {
     "data": {
      "text/plain": [
       "'\\nJá foi feito um acima com esse exemplo,\\nutilizando [::-1] para inversão.\\n'"
      ]
     },
     "execution_count": 5,
     "metadata": {},
     "output_type": "execute_result"
    }
   ],
   "source": [
    "#Exercício8:\n",
    "'''\n",
    "Já foi feito um acima com esse exemplo,\n",
    "utilizando [::-1] para inversão.\n",
    "'''"
   ]
  },
  {
   "cell_type": "code",
   "execution_count": 9,
   "metadata": {},
   "outputs": [
    {
     "name": "stdout",
     "output_type": "stream",
     "text": [
      "286.0\n",
      "[1.0, 4.0, 9.0, 16.0, 25.0, 36.0, 49.0, 64.0, 81.0, 1.0]\n"
     ]
    }
   ],
   "source": [
    "#Exercício9\n",
    "a = []\n",
    "p = 0\n",
    "while p < 10:\n",
    "    p+=1\n",
    "    pi = float(input('Digite o número:'))\n",
    "    a.append(pi**2)\n",
    "    if p == 10:\n",
    "        tlt = sum(a)\n",
    "print(tlt);print(a)\n"
   ]
  },
  {
   "cell_type": "code",
   "execution_count": 16,
   "metadata": {},
   "outputs": [
    {
     "name": "stdout",
     "output_type": "stream",
     "text": [
      "[1.0, 3.0, 5.0, 7.0, 9.0, 7.0, 5.0, 3.0, 1.0, 2.0]\n",
      "[2.0, 4.0, 6.0, 8.0, 8.0, 6.0, 4.0, 2.0, 1.0, 3.0]\n",
      "[[1.0, 2.0], [3.0, 4.0], [5.0, 6.0], [7.0, 8.0], [9.0, 8.0], [7.0, 6.0], [5.0, 4.0], [3.0, 2.0], [1.0, 1.0], [2.0, 3.0]]\n"
     ]
    }
   ],
   "source": [
    "# Exercício10:\n",
    "'''\n",
    "Não consegui tirar a 'lsita' de dentro da lista.\n",
    "'''\n",
    "c = []\n",
    "ci = []\n",
    "cis = []\n",
    "x = 0\n",
    "while x < 10:\n",
    "    x+=1\n",
    "    ti = float(input('Digite o número:'))\n",
    "    tu = float(input('Digite o número:'))\n",
    "    c.append(ti)\n",
    "    ci.append(tu)\n",
    "    cis.append([ti,tu])\n",
    "print(c);print(ci);print(cis)\n",
    "\n"
   ]
  },
  {
   "cell_type": "code",
   "execution_count": 17,
   "metadata": {},
   "outputs": [
    {
     "data": {
      "text/plain": [
       "\"\\nCreio que seja só criar uma nova variavel e indexar no append depois de 'tu'.\\n\""
      ]
     },
     "execution_count": 17,
     "metadata": {},
     "output_type": "execute_result"
    }
   ],
   "source": [
    "# Exercício11:\n",
    "'''\n",
    "Creio que seja só criar uma nova variavel e indexar no append depois de 'tu'.\n",
    "'''"
   ]
  },
  {
   "cell_type": "code",
   "execution_count": 18,
   "metadata": {},
   "outputs": [
    {
     "data": {
      "text/plain": [
       "'\\nNão vou fzr esse bgl n.\\n'"
      ]
     },
     "execution_count": 18,
     "metadata": {},
     "output_type": "execute_result"
    }
   ],
   "source": [
    "#Exercício12:\n",
    "'''\n",
    "Não vou fzr esse bgl n.\n",
    "'''"
   ]
  },
  {
   "cell_type": "code",
   "execution_count": 22,
   "metadata": {},
   "outputs": [
    {
     "name": "stdout",
     "output_type": "stream",
     "text": [
      "A média de temperatura anual foi de: 5.333333333333333\n"
     ]
    }
   ],
   "source": [
    "# Exercício 13:\n",
    "\n",
    "def temp_anual():\n",
    "    media = []\n",
    "    i = 0\n",
    "    while i < 12:\n",
    "        i+=1\n",
    "        temperatura = float(input('Qual a temperatura média desse mês?'))\n",
    "        media.append(temperatura)\n",
    "        media_temperatura_anual = np.mean(media)\n",
    "    print('A média de temperatura anual foi de:', media_temperatura_anual)\n",
    "\n",
    "temp_anual()"
   ]
  },
  {
   "cell_type": "code",
   "execution_count": 33,
   "metadata": {},
   "outputs": [
    {
     "name": "stdout",
     "output_type": "stream",
     "text": [
      "Telefonou para a vítima?\n",
      "Esteve no local do crime?\n",
      "Mora perto da vítima?\n",
      "Devia para a vítima?\n",
      "Já trabalhou com a vítima?\n",
      "Inocente\n",
      "Suspeito\n",
      "Cúmplice, e não é de um resgate.\n",
      "Cúmplice, e não é de um resgate.\n",
      "Olá assasino!\n"
     ]
    }
   ],
   "source": [
    "# Exercício14:\n",
    "\n",
    "def cria_menu():\n",
    "    print(\"Telefonou para a vítima?\\n\" \n",
    "\"Esteve no local do crime?\\n\"\n",
    "\"Mora perto da vítima?\\n\" \n",
    "\"Devia para a vítima?\\n\"\n",
    "\"Já trabalhou com a vítima?\")\n",
    "\n",
    "def perguntas():\n",
    "    respostas_sim = []\n",
    "    respostas_nao = []\n",
    "    i = 0\n",
    "    t = 0\n",
    "    while i < 5:\n",
    "        t+=1\n",
    "        i+=1\n",
    "        pergunta = input(f\"Qual sua resposta para a pergunta {t}? s para [sim] n para [não]:\")\n",
    "        if pergunta == 's':\n",
    "            respostas_sim.append(pergunta)\n",
    "        else:\n",
    "            respostas_nao.append(pergunta)\n",
    "        if len(respostas_sim) == 2:\n",
    "            print('Suspeito')\n",
    "        elif len(respostas_sim) > 2 and len(respostas_sim) < 5:\n",
    "            print('Cúmplice, e não é de um resgate.')\n",
    "        elif len(respostas_sim)  > 4:\n",
    "            print('Olá assasino!')\n",
    "        else:\n",
    "            print('Inocente')\n",
    "cria_menu()\n",
    "perguntas()"
   ]
  },
  {
   "cell_type": "code",
   "execution_count": 34,
   "metadata": {},
   "outputs": [
    {
     "data": {
      "text/plain": [
       "'\\nNão vou fazer esse tb.\\n'"
      ]
     },
     "execution_count": 34,
     "metadata": {},
     "output_type": "execute_result"
    }
   ],
   "source": [
    "# Exercício15:\n",
    "'''\n",
    "cansei pacero.\n",
    "'''"
   ]
  }
 ],
 "metadata": {
  "kernelspec": {
   "display_name": "Python 3",
   "language": "python",
   "name": "python3"
  },
  "language_info": {
   "codemirror_mode": {
    "name": "ipython",
    "version": 3
   },
   "file_extension": ".py",
   "mimetype": "text/x-python",
   "name": "python",
   "nbconvert_exporter": "python",
   "pygments_lexer": "ipython3",
   "version": "3.10.9"
  },
  "orig_nbformat": 4,
  "vscode": {
   "interpreter": {
    "hash": "ce52f2941166ede35db5d77fef71be126519e15341ee8857c5d250c1cc903509"
   }
  }
 },
 "nbformat": 4,
 "nbformat_minor": 2
}
