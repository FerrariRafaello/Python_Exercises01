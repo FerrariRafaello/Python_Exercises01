{
 "cells": [
  {
   "cell_type": "code",
   "execution_count": 4,
   "metadata": {},
   "outputs": [
    {
     "name": "stdout",
     "output_type": "stream",
     "text": [
      "[1, 4, 9, 16, 25]\n"
     ]
    }
   ],
   "source": [
    "'''\n",
    "Em python, 'Lambda' é uma função anônima(sem nome), \n",
    "podendo ter qualquer número de argumentos, porém apenas \n",
    "uma expressão, que é avaliada e retornada, além que deve ter valor de retorno.\n",
    "Como a função deve ter um valor de retorno para cada entrada válida, sem poder\n",
    "defini-la com if, mas sem else, pelo fato de não estar especificando o que deve ser retornado\n",
    "se a condição 'if' for falsa(sua parte 'else').\n",
    "'''\n",
    "# 1° exercício:\n",
    "lista1 = [1,2,3,4,5]\n",
    "lista2 = []\n",
    "\n",
    "# Laço para iteração:\n",
    "for i in lista1:\n",
    "    lamb = lambda i : i**2\n",
    "    lista2.append(lamb(i))\n",
    "\n",
    "print(lista2)\n"
   ]
  },
  {
   "cell_type": "code",
   "execution_count": 5,
   "metadata": {},
   "outputs": [
    {
     "name": "stdout",
     "output_type": "stream",
     "text": [
      "[1, 4, 9, 16, 25]\n"
     ]
    }
   ],
   "source": [
    "# 2° exercício:\n",
    "'''\n",
    "Para esse exercício sera necessária a utilização da função 'map'.\n",
    "Que consiste em: aplicar uma função em cada item da lista.\n",
    "'''\n",
    "listaA = [1,2,3,4,5]\n",
    "listaB = []\n",
    "listaB= list(map(lambda a : a**2, listaA))\n",
    "print(listaB)\n"
   ]
  },
  {
   "cell_type": "code",
   "execution_count": 12,
   "metadata": {},
   "outputs": [
    {
     "name": "stdout",
     "output_type": "stream",
     "text": [
      "[1, 9, 25, 49, 81]\n"
     ]
    }
   ],
   "source": [
    "# 3° Exercício:\n",
    "'''\n",
    "Para esse exercício sera necessária a utilização do modo 'filter'.\n",
    "Que consiste em filtrar cada item a partir da comdição/expressão propósta.\n",
    "'''\n",
    "listA = [1,2,3,4,5,6,7,8,9]\n",
    "listB = []\n",
    "resultado = list(filter(lambda x: x % 2 != 0, listA))\n",
    "listB = list(map(lambda y: y**2, resultado))\n",
    "print(listB)"
   ]
  },
  {
   "cell_type": "code",
   "execution_count": null,
   "metadata": {},
   "outputs": [],
   "source": [
    "# 4° Exercício:\n",
    "'''\n",
    "Utilizando lambda para ordenar uma lista de tuplas pelo segundo elemento de cada tupla.  \n",
    "O lambda é útil para indicar o critério de ordenação em funções como sorted().\n",
    "'''\n",
    "pairs = [(1, 5), (2, 3), (4, 1), (0, 9)]\n",
    "sorted_pairs = sorted(pairs, key=lambda x: x[1])\n",
    "print(sorted_pairs)  "
   ]
  },
  {
   "cell_type": "code",
   "execution_count": null,
   "metadata": {},
   "outputs": [],
   "source": [
    "# 5° Exercício:\n",
    "'''\n",
    "Aplicando lambda para converter uma lista de palavras em suas primeiras letras.  \n",
    "O lambda é útil para manipulação rápida de listas com map.\n",
    "'''\n",
    "palavras = ['python', 'lambda', 'exemplo', 'lista']\n",
    "iniciais = list(map(lambda x: x[0], palavras))\n",
    "print(iniciais)  #\n"
   ]
  }
 ],
 "metadata": {
  "kernelspec": {
   "display_name": "Python 3",
   "language": "python",
   "name": "python3"
  },
  "language_info": {
   "codemirror_mode": {
    "name": "ipython",
    "version": 3
   },
   "file_extension": ".py",
   "mimetype": "text/x-python",
   "name": "python",
   "nbconvert_exporter": "python",
   "pygments_lexer": "ipython3",
   "version": "3.10.9"
  },
  "orig_nbformat": 4,
  "vscode": {
   "interpreter": {
    "hash": "ce52f2941166ede35db5d77fef71be126519e15341ee8857c5d250c1cc903509"
   }
  }
 },
 "nbformat": 4,
 "nbformat_minor": 2
}
