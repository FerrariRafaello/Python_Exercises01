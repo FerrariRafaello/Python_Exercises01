{
 "cells": [
  {
   "cell_type": "code",
   "execution_count": null,
   "metadata": {},
   "outputs": [
    {
     "data": {
      "text/plain": [
       "False"
      ]
     },
     "execution_count": 5,
     "metadata": {},
     "output_type": "execute_result"
    }
   ],
   "source": [
    "#Determinando o valor lógico das preposições\n",
    "'''\n",
    "a) 7<2 = False\n",
    "\n",
    "b) (3+2=8)’ = True #esta virgula\n",
    "(F)' -> vira T pela virgula \n",
    "\n",
    "c) 50<70 ∨ 4>-2 = True\n",
    "    V       V -> sendo duas proposições verdadeiras o resultado ser V\n",
    "d) tg 45°=1 ∧ sen 45°=0,5 = False\n",
    "    V           F -> F pela alternativa falsa preavalecer\n",
    "\n",
    "e) 4<10 ⊕ 5<9 = False\n",
    "    V       V -> o simbolo faz a conclusao ser negativa sendo F\n",
    "\n",
    "f) 2+2=4 → 2+3=6 = False\n",
    "    V       F  -> F\n",
    "g) 2³=8 ↔ 2²=4 = True\n",
    "    V       V\n",
    "''' "
   ]
  },
  {
   "cell_type": "code",
   "execution_count": 7,
   "metadata": {},
   "outputs": [
    {
     "data": {
      "text/plain": [
       "2"
      ]
     },
     "execution_count": 7,
     "metadata": {},
     "output_type": "execute_result"
    }
   ],
   "source": [
    "#Obtendo o valor lógico das preposições\n",
    "'''\n",
    "p = v\n",
    "q = v\n",
    "r = f\n",
    "p+q = True ( p ou q sendo verdadeiro será verdadeiro)\n",
    "p+r = True ( p ou r sendo verdadeiro será verdadeiro)\n",
    "q.r = False (se uma for negativa a proposição se torna falsa)\n",
    "(q.r)' = True (negação em que q ou r sendo negativo fica F com a virgula fica V)\n",
    "q+r = True ( q ou r sendo verdadeiro será verdadeiro)\n",
    "p' = False (virgula transformando True em False)\n",
    "(p.r)' = True ( sendo uma alternativa F tudo fica F com a virgula fica V)\n",
    "'''"
   ]
  },
  {
   "cell_type": "code",
   "execution_count": 2,
   "metadata": {},
   "outputs": [
    {
     "name": "stdout",
     "output_type": "stream",
     "text": [
      "Senha incorreta, tente novamente!\n",
      "Senha incorreta, tente novamente!\n",
      "Senha incorreta, tente novamente!\n",
      "Senha incorreta, tente novamente!\n",
      "Acesso liberado!\n"
     ]
    }
   ],
   "source": [
    "#Criando algoritmo para conferir senha de usuário\n",
    "\n",
    "def senha():\n",
    "    acesso = True\n",
    "    while(acesso):\n",
    "        senha = input('Digite sua senha de acesso:')\n",
    "        if senha != '705080':\n",
    "            print('Senha incorreta, tente novamente!')\n",
    "            \n",
    "        else:\n",
    "            print('Acesso liberado!')\n",
    "            acesso = False\n",
    "senha()"
   ]
  },
  {
   "cell_type": "code",
   "execution_count": null,
   "metadata": {},
   "outputs": [
    {
     "name": "stdout",
     "output_type": "stream",
     "text": [
      "Digite apenas valores numéricos\n",
      "Digite apenas valores numéricos\n",
      "Digite apenas valores numéricos\n",
      "Digite apenas valores numéricos\n",
      "Sua renda precisa ser de no minimo 8500 para efetuação do empréstimo!\n",
      "Obrigado pela colaboração, seu emprestimo/financiamento foi aprovado!\n"
     ]
    }
   ],
   "source": [
    "#8500 renda mensal líquida mínima\n",
    "# financiamentos n ultrapassem 20% == 1700\n",
    "\n",
    "def renda_mensal():\n",
    "    acordo = True\n",
    "    while(acordo):\n",
    "        renda_minima = input('Qual sua renda mensal?')\n",
    "    \n",
    "        try:\n",
    "            renda_minima = float(renda_minima)\n",
    "            acordo20     = renda_minima * 20 /100\n",
    "        except ValueError:\n",
    "            print('Digite apenas valores numéricos') \n",
    "            continue\n",
    "        \n",
    "        if renda_minima < 8500:\n",
    "            print('Sua renda precisa ser de no minimo 8500 para efetuação do empréstimo!')\n",
    "        else:\n",
    "            while renda_minima >=8500:\n",
    "                finan_emp = float(input('De quanto será seu emprestimo ou financiamneto?'))\n",
    "                if finan_emp > acordo20:\n",
    "                    print('Nosso banco não pode fazer um emprestimo alto com a renda esclarecida.')\n",
    "                else:\n",
    "                    print('Obrigado pela colaboração, seu emprestimo/financiamento foi aprovado!')\n",
    "                    acordo = False\n",
    "                    break\n",
    "\n",
    "\n",
    "renda_mensal()"
   ]
  },
  {
   "cell_type": "code",
   "execution_count": 18,
   "metadata": {},
   "outputs": [
    {
     "name": "stdout",
     "output_type": "stream",
     "text": [
      "Aprovadissisiss, congratulations pela nota 7.6 sanbagui!\n"
     ]
    }
   ],
   "source": [
    "#Em uma determinada disciplina, para compor a nota, foram realizadas duas\n",
    "# atividades práticas e uma prova objetiva. A primeira atividade prática corresponde a\n",
    "# 20% da nota, a segunda atividade prática corresponde a 30% da nota e a prova\n",
    "# objetiva corresponde a 50% da nota da disciplina. Sabendo que se o estudante\n",
    "# obtiver nota inferior a 30 está reprovado, nota maior ou igual a 30 e menor do que\n",
    "# 70 está em exame final e nota maior ou igual a 70 está aprovado, faça um programa\n",
    "# em Python onde são informadas as notas obtidas nas duas atividades práticas e na\n",
    "# prova objetiva e é informada a nota obtida na disciplina e o resultado (reprovado, em\n",
    "# exame final ou aprovado). Considere a nota da disciplina com uma casa decimal.\n",
    "def passou_ou_nopasso():\n",
    "    notap1 = int(input('digite sua nota da ATP1:'))\n",
    "    notap2 = int(input('digite sua nota da ATP2:'))\n",
    "    notapo = int(input('digite sua nota da APOL:'))\n",
    "    p1 = notap1 * 20 / 100\n",
    "    p2 = notap2 * 30 / 100\n",
    "    po = notapo * 50 / 100\n",
    "    nota = p1+p2+po\n",
    "\n",
    "    if nota < 3:\n",
    "        print('reprovado')\n",
    "\n",
    "    elif nota >= 3 and nota < 7:\n",
    "        print('exame final camarada!')\n",
    "\n",
    "    else:\n",
    "        print(f'Aprovadissisiss, congratulations pela nota {nota} sanbagui!')\n",
    "passou_ou_nopasso()\n"
   ]
  },
  {
   "cell_type": "code",
   "execution_count": null,
   "metadata": {},
   "outputs": [
    {
     "name": "stdout",
     "output_type": "stream",
     "text": [
      "Acesso negado!\n",
      "Acesso negado!\n",
      "Acesso negado!\n",
      "Acesso liberado!\n"
     ]
    }
   ],
   "source": [
    "def senha():\n",
    "    acesso = True\n",
    "    while(acesso):\n",
    "        senha = input('Digite sua senha de acesso:')\n",
    "        if senha == '705080' or senha == '999999':\n",
    "            print('Acesso liberado!')\n",
    "            acesso = False\n",
    "        else:\n",
    "            print('Acesso negado!')\n",
    "            continue        \n",
    "senha()"
   ]
  }
 ],
 "metadata": {
  "kernelspec": {
   "display_name": "Python 3",
   "language": "python",
   "name": "python3"
  },
  "language_info": {
   "codemirror_mode": {
    "name": "ipython",
    "version": 3
   },
   "file_extension": ".py",
   "mimetype": "text/x-python",
   "name": "python",
   "nbconvert_exporter": "python",
   "pygments_lexer": "ipython3",
   "version": "3.10.11"
  },
  "orig_nbformat": 4
 },
 "nbformat": 4,
 "nbformat_minor": 2
}
