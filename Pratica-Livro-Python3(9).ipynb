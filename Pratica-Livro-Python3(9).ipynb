{
 "cells": [
  {
   "cell_type": "code",
   "execution_count": null,
   "metadata": {},
   "outputs": [
    {
     "name": "stdout",
     "output_type": "stream",
     "text": [
      "{}\n",
      "{'one': 'um'}\n",
      "{'one': 'um', 'two': 'dois'}\n",
      "um\n",
      "2\n",
      "True\n",
      "False\n",
      "['um', 'dois']\n",
      "('um', 'dois')\n"
     ]
    }
   ],
   "source": [
    "# Dicionário \n",
    "'''\n",
    "Um dicionário é como se fosse uma lista, porém mais geral.\n",
    "Em uma lista somente inteiros podem assumir o índice de posição,\n",
    "nos dicionários o índice pode ser quase qualquer coisa.\n",
    "No dicionário existem as 'chaves' que ficam antes dos ':' e \n",
    "os 'valores'(atributos) que ficam depois dos pontos.\n",
    "A função 'dict' cria um novo dicionário ou transforma algum objeto em dicionário.\n",
    "Eles são atribuidos por meio das {}, e para se adicionar algo nos dicionários pode-se\n",
    "usar colchetes []\n",
    "'''\n",
    "# Exemplo:\n",
    "itp = dict()\n",
    "print(itp)\n",
    "\n",
    "itp['one']= 'um'\n",
    "print(itp)\n",
    "itp['two']= 'dois'\n",
    "print(itp)\n",
    "print(itp['one'])\n",
    "print(len(itp))\n",
    "print('one' in itp)\n",
    "print('two' not in itp)\n",
    "valores = list(itp.values())\n",
    "tuplinhas = tuple(itp.values())\n",
    "print(valores)\n",
    "print(tuplinhas)"
   ]
  },
  {
   "cell_type": "code",
   "execution_count": null,
   "metadata": {},
   "outputs": [
    {
     "name": "stdout",
     "output_type": "stream",
     "text": [
      "{'Writing': 1, 'programs': 2, 'or': 1, 'programming': 1, 'is': 2, 'a': 3, 'very': 2, 'creative': 1, 'and': 5, 'rewarding': 1, 'activity': 1, 'You': 1, 'can': 4, 'write': 1, 'for': 1, 'many': 2, 'reasons': 1, 'ranging': 2, 'from': 2, 'making': 1, 'your': 2, 'living': 1, 'to': 16, 'solving': 1, 'difficult': 1, 'data': 1, 'analysis': 1, 'problem': 2, 'having': 1, 'fun': 1, 'helping': 1, 'someone': 1, 'else': 1, 'solve': 1, 'This': 1, 'book': 1, 'assumes': 1, 'that': 4, '{\\\\em': 1, 'everyone}': 1, 'needs': 1, 'know': 2, 'how': 2, 'program': 1, 'once': 1, 'you': 4, 'program,': 1, 'will': 1, 'figure': 1, 'out': 1, 'what': 2, 'want': 1, 'do': 5, 'with': 2, 'newfound': 1, 'skills': 1, 'We': 2, 'are': 3, 'surrounded': 1, 'in': 2, 'our': 5, 'daily': 1, 'lives': 1, 'computers': 5, 'laptops': 1, 'cell': 1, 'phones': 1, 'think': 1, 'of': 5, 'these': 1, 'as': 1, 'personal': 1, 'assistants': 1, 'who': 1, 'take': 1, 'care': 1, 'things': 3, 'on': 2, 'behalf': 2, 'The': 1, 'hardware': 1, 'current-day': 1, 'essentially': 1, 'built': 1, 'continuously': 1, 'ask': 1, 'us': 2, 'the': 6, 'question': 1, 'What': 1, 'would': 2, 'like': 2, 'me': 1, 'next': 2, 'Our': 1, 'fast': 1, 'have': 1, 'vasts': 1, 'amounts': 1, 'memory': 1, 'could': 2, 'be': 1, 'helpful': 1, 'if': 1, 'we': 5, 'only': 1, 'knew': 2, 'language': 2, 'speak': 1, 'explain': 1, 'computer': 2, 'it': 1, 'If': 1, 'this': 1, 'tell': 1, 'tasks': 1, 'were': 1, 'reptitive': 1, 'Interestingly,': 1, 'kinds': 2, 'best': 1, 'often': 1, 'humans': 1, 'find': 1, 'boring': 1, 'mind-numbing': 1}\n"
     ]
    }
   ],
   "source": [
    "# Exercício:\n",
    "name = input('Nome do arquivo:')\n",
    "try:\n",
    "    nome = open(name)\n",
    "except:\n",
    "    print('erro')\n",
    "    exit()\n",
    "\n",
    "contas = dict()\n",
    "for a in nome:\n",
    "    wordi = a.split()\n",
    "    for worde in wordi:\n",
    "        if worde not in contas:\n",
    "            contas[worde]=1\n",
    "        else:\n",
    "            contas[worde]+=1\n",
    "print(contas)"
   ]
  },
  {
   "cell_type": "code",
   "execution_count": null,
   "metadata": {},
   "outputs": [
    {
     "name": "stdout",
     "output_type": "stream",
     "text": [
      "{'b': 1, 'r': 2, 'o': 2, 'n': 1, 't': 1, 's': 2, 'a': 1, 'u': 2}\n",
      "100\n",
      "0\n",
      "42\n",
      "{'b': 1, 'r': 2, 'o': 2, 'n': 1, 't': 1, 's': 2, 'a': 1, 'u': 2}\n"
     ]
    }
   ],
   "source": [
    "# Dicionário como um conjunto de contadores\n",
    "'''\n",
    "Suponha que lhe deram uma string e que você queira contar quantas vezes cada\n",
    "letra aparece. Uma forma simples é utlizar um meio iterativo com 'laço' para per-\n",
    "correr a palavra e fazer a contegem de letras nela:\n",
    "'''\n",
    "palavra = 'brontosaurus'\n",
    "d = dict()\n",
    "for c in palavra:\n",
    "    if c not in d:\n",
    "        d[c]=1 # Contagem de letras\n",
    "    else:\n",
    "        d[c]=d[c]+1 # Se a letra já existir, conte mais 1 se achar outra igual\n",
    "print(d)\n",
    "\n",
    "'''\n",
    "Ademais dicionários possuem um método chamado 'get',\n",
    "que recebe uma chave e um valor padrão. Se a chave estiver contida no dicionário, get retorna o valor correspondente;\n",
    "caso contrário, retorna o valor padrão. Por exemplo:\n",
    "'''\n",
    "conta = { 'chuck' : 1 , 'annie' : 42, 'jan': 100}\n",
    "print(conta.get('jan', 0))\n",
    "print(conta.get('tim', 0))\n",
    "print(conta.get('annie', 0))\n",
    "\n",
    "# Uma outra forma de fazer o 1° ex desse tópico:\n",
    "# Porém usando 'get':\n",
    "word = 'brontosaurus'\n",
    "d = dict()\n",
    "for c in word:\n",
    "    d[c] = d.get(c,0) + 1\n",
    "print(d)"
   ]
  },
  {
   "cell_type": "code",
   "execution_count": 2,
   "metadata": {},
   "outputs": [
    {
     "name": "stdout",
     "output_type": "stream",
     "text": [
      "{'But': 1, 'soft': 1, 'what': 1, 'light': 1, 'through': 1, 'yonder': 1, 'window': 1, 'breaks': 1, 'It': 1, 'is': 3, 'the': 3, 'east': 1, 'and': 3, 'Juliet': 1, 'sun': 2, 'Arise': 1, 'fair': 1, 'kill': 1, 'envious': 1, 'moon': 1, 'Who': 1, 'already': 1, 'sick': 1, 'pale': 1, 'with': 1, 'grief': 1}\n"
     ]
    }
   ],
   "source": [
    "# Arquivos e dicionários:\n",
    "fname = input('Enter the file name: ')\n",
    "try:\n",
    "    fhand = open(fname)\n",
    "except:\n",
    "    print('File cannot be opened:', fname)\n",
    "    exit()\n",
    "\n",
    "counts = dict()\n",
    "for line in fhand:\n",
    "    words = line.split()\n",
    "    for word in words:\n",
    "        if word not in counts:\n",
    "            counts[word] = 1\n",
    "        else:\n",
    "            counts[word] += 1\n",
    "print(counts)        "
   ]
  },
  {
   "cell_type": "code",
   "execution_count": 17,
   "metadata": {},
   "outputs": [
    {
     "name": "stdout",
     "output_type": "stream",
     "text": [
      "chuck: 1\n",
      "annie: 42\n",
      "jan: 100\n",
      "annie 42\n",
      "jan 100\n",
      "['chuck', 'annie', 'jan']\n",
      "-------------------------\n",
      "annie 42\n",
      "chuck 1\n",
      "jan 100\n"
     ]
    }
   ],
   "source": [
    "# Laços e Dicionários\n",
    "'''\n",
    "Ao utilizarmos um dicionário como a sequência em uma instrução 'for',\n",
    "ela irá percorer as chaves do dicionário, como no exemplo abaixo:\n",
    "'''\n",
    "cont = {'chuck' : 1,\n",
    "        'annie' : 42,\n",
    "        'jan'   : 100}\n",
    "for key in cont:\n",
    "    print(key, cont[key], sep=': ')\n",
    "\n",
    "'''\n",
    "Podemos usar este padrão para implementar vários “jargões” de repetição que\n",
    "descrevemos anteriormente. Por exemplo, se quisermos encontrar todas as entradas\n",
    "em um dicionário com valor maior que dez, poderíamos escrever o seguinte código:\n",
    "'''\n",
    "for keyy in cont:\n",
    "    if cont[keyy] > 10:\n",
    "        print(keyy, cont[keyy])\n",
    "'''\n",
    "Se quisermos mostrar as chaves em ordem alfabética, primeiramente precisamos\n",
    "fazer uma lista, contendo as chaves desse dicionário, usando o método keys,\n",
    "disponível no próprio objeto dicionário. A partir disso, podemos ordenar a lista\n",
    "e percorrê-la, analisando cada chave e mostrando os pares chave-valor de forma\n",
    "ordenada, como a seguir:\n",
    "'''\n",
    "lst = list(cont.keys())\n",
    "print(lst)\n",
    "lst.sort()# Método utilizado para reembaralhar as palavras em ordem alfabética\n",
    "print('-------------------------')\n",
    "for k in lst:\n",
    "    print(k,cont[k])"
   ]
  },
  {
   "cell_type": "code",
   "execution_count": null,
   "metadata": {},
   "outputs": [
    {
     "name": "stdout",
     "output_type": "stream",
     "text": [
      "{'romeo': 40, 'and': 42, 'juliet': 32, 'act': 1, '2': 2, 'scene': 2, 'ii': 1, 'capulets': 1, 'orchard': 2, 'enter': 1, 'he': 5, 'jests': 1, 'at': 9, 'scars': 1, 'that': 30, 'never': 2, 'felt': 1, 'a': 24, 'wound': 1, 'appears': 1, 'above': 6, 'window': 2, 'but': 18, 'soft': 1, 'what': 11, 'light': 5, 'through': 2, 'yonder': 2, 'breaks': 1, 'it': 22, 'is': 21, 'the': 34, 'east': 1, 'sun': 2, 'arise': 1, 'fair': 4, 'kill': 2, 'envious': 2, 'moon': 4, 'who': 5, 'already': 1, 'sick': 2, 'pale': 1, 'with': 8, 'grief': 2, 'thou': 32, 'her': 14, 'maid': 2, 'art': 7, 'far': 2, 'more': 9, 'than': 6, 'she': 9, 'be': 14, 'not': 18, 'since': 1, 'vestal': 1, 'livery': 1, 'green': 1, 'none': 1, 'fools': 1, 'do': 7, 'wear': 1, 'cast': 1, 'off': 1, 'my': 29, 'lady': 2, 'o': 11, 'love': 24, 'knew': 1, 'were': 9, 'speaks': 3, 'yet': 9, 'says': 1, 'nothing': 1, 'of': 20, 'eye': 2, 'discourses': 1, 'i': 61, 'will': 8, 'answer': 1, 'am': 7, 'too': 8, 'bold': 1, 'tis': 4, 'to': 34, 'me': 18, 'two': 1, 'fairest': 1, 'stars': 2, 'in': 13, 'all': 6, 'heaven': 3, 'having': 1, 'some': 3, 'business': 1, 'entreat': 1, 'eyes': 6, 'twinkle': 1, 'their': 6, 'spheres': 1, 'till': 4, 'they': 5, 'return': 1, 'if': 12, 'there': 3, 'head': 2, 'brightness': 1, 'cheek': 4, 'would': 16, 'shame': 1, 'those': 2, 'as': 12, 'daylight': 1, 'doth': 2, 'lamp': 1, 'airy': 2, 'region': 1, 'stream': 1, 'so': 10, 'bright': 2, 'birds': 1, 'sing': 1, 'think': 2, 'night': 16, 'see': 2, 'how': 5, 'leans': 1, 'upon': 5, 'hand': 4, 'glove': 1, 'might': 1, 'touch': 1, 'ay': 2, 'speak': 4, 'again': 6, 'angel': 1, 'for': 12, 'glorious': 1, 'this': 9, 'being': 2, 'oer': 1, 'winged': 1, 'messenger': 1, 'unto': 1, 'whiteupturned': 1, 'wondering': 1, 'mortals': 1, 'fall': 1, 'back': 4, 'gaze': 1, 'on': 4, 'him': 2, 'when': 2, 'bestrides': 1, 'lazypacing': 1, 'clouds': 1, 'sails': 1, 'bosom': 1, 'air': 1, 'wherefore': 2, 'deny': 2, 'thy': 20, 'father': 1, 'refuse': 1, 'name': 11, 'or': 4, 'wilt': 6, 'sworn': 1, 'ill': 8, 'no': 6, 'longer': 1, 'capulet': 1, 'aside': 1, 'shall': 6, 'hear': 2, 'enemy': 2, 'thyself': 1, 'though': 1, 'montague': 5, 'whats': 2, 'nor': 5, 'foot': 2, 'arm': 1, 'face': 2, 'any': 4, 'other': 4, 'part': 2, 'belonging': 1, 'man': 2, 'which': 7, 'we': 2, 'call': 3, 'rose': 1, 'by': 14, 'smell': 1, 'sweet': 8, 'calld': 1, 'retain': 1, 'dear': 7, 'perfection': 1, 'owes': 1, 'without': 1, 'title': 1, 'doff': 1, 'thee': 24, 'take': 3, 'myself': 2, 'word': 4, 'new': 1, 'baptized': 1, 'henceforth': 1, 'thus': 1, 'bescreend': 1, 'stumblest': 1, 'counsel': 2, 'know': 3, 'tell': 3, 'saint': 2, 'hateful': 1, 'because': 1, 'an': 2, 'had': 1, 'written': 1, 'tear': 2, 'ears': 2, 'have': 13, 'drunk': 1, 'hundred': 1, 'words': 2, 'tongues': 2, 'utterance': 1, 'sound': 2, 'neither': 1, 'either': 1, 'dislike': 1, 'camest': 1, 'hither': 1, 'walls': 2, 'are': 3, 'high': 1, 'hard': 1, 'climb': 1, 'place': 2, 'death': 2, 'considering': 1, 'kinsmen': 2, 'find': 2, 'here': 4, 'loves': 3, 'wings': 1, 'did': 3, 'oerperch': 1, 'these': 2, 'stony': 1, 'limits': 1, 'cannot': 1, 'hold': 1, 'out': 2, 'can': 2, 'dares': 1, 'attempt': 1, 'therefore': 3, 'let': 3, 'murder': 1, 'alack': 1, 'lies': 2, 'peril': 1, 'thine': 2, 'twenty': 2, 'swords': 1, 'look': 1, 'proof': 1, 'against': 1, 'enmity': 1, 'world': 3, 'saw': 1, 'nights': 1, 'cloak': 1, 'hide': 1, 'from': 4, 'sight': 1, 'them': 1, 'life': 1, 'better': 1, 'ended': 1, 'hate': 1, 'prorogued': 1, 'wanting': 1, 'whose': 1, 'direction': 1, 'foundst': 1, 'first': 1, 'prompt': 1, 'inquire': 1, 'lent': 2, 'pilot': 1, 'wert': 1, 'vast': 1, 'shore': 1, 'washd': 1, 'farthest': 1, 'sea': 2, 'adventure': 1, 'such': 2, 'merchandise': 1, 'knowst': 1, 'mask': 1, 'else': 3, 'maiden': 1, 'blush': 1, 'bepaint': 1, 'hast': 1, 'heard': 1, 'tonight': 3, 'fain': 3, 'dwell': 2, 'form': 1, 'spoke': 1, 'farewell': 1, 'compliment': 1, 'dost': 2, 'say': 5, 'swearst': 1, 'mayst': 2, 'prove': 4, 'false': 1, 'lovers': 2, 'perjuries': 1, 'then': 2, 'jove': 1, 'laughs': 1, 'gentle': 1, 'pronounce': 1, 'faithfully': 1, 'thinkst': 1, 'quickly': 1, 'won': 1, 'frown': 1, 'perverse': 1, 'nay': 1, 'woo': 1, 'truth': 1, 'fond': 1, 'havior': 1, 'trust': 1, 'gentleman': 1, 'true': 3, 'cunning': 1, 'strange': 2, 'should': 2, 'been': 1, 'must': 1, 'confess': 1, 'overheardst': 1, 'ere': 2, 'was': 1, 'ware': 1, 'passion': 1, 'pardon': 1, 'impute': 1, 'yielding': 1, 'dark': 1, 'hath': 1, 'discovered': 1, 'blessed': 3, 'swear': 6, 'tips': 1, 'silver': 1, 'fruittree': 1, 'tops': 1, 'inconstant': 1, 'monthly': 1, 'changes': 1, 'circled': 1, 'orb': 1, 'lest': 1, 'likewise': 1, 'variable': 1, 'gracious': 1, 'self': 1, 'god': 1, 'idolatry': 1, 'believe': 1, 'hearts': 1, 'well': 2, 'although': 1, 'joy': 2, 'contract': 1, 'rash': 1, 'unadvised': 1, 'sudden': 1, 'like': 3, 'lightning': 1, 'cease': 2, 'one': 2, 'lightens': 1, 'good': 9, 'bud': 1, 'summers': 1, 'ripening': 1, 'breath': 1, 'may': 2, 'beauteous': 1, 'flower': 1, 'next': 1, 'meet': 1, 'repose': 1, 'rest': 2, 'come': 5, 'heart': 1, 'within': 5, 'breast': 2, 'leave': 2, 'unsatisfied': 1, 'satisfaction': 1, 'canst': 1, 'exchange': 1, 'faithful': 1, 'vow': 1, 'mine': 3, 'gave': 1, 'before': 1, 'didst': 1, 'request': 1, 'give': 3, 'wouldst': 1, 'withdraw': 1, 'purpose': 2, 'frank': 1, 'wish': 1, 'thing': 1, 'bounty': 1, 'boundless': 1, 'deep': 1, 'both': 1, 'infinite': 1, 'nurse': 4, 'calls': 2, 'noise': 1, 'adieu': 1, 'anon': 1, 'stay': 2, 'little': 2, 'exit': 4, 'afeard': 1, 'dream': 1, 'flatteringsweet': 1, 'substantial': 1, 'reenter': 2, 'three': 1, 'indeed': 1, 'bent': 1, 'honourable': 1, 'marriage': 1, 'send': 3, 'tomorrow': 3, 'procure': 1, 'where': 2, 'time': 1, 'perform': 1, 'rite': 1, 'fortunes': 1, 'lay': 1, 'follow': 1, 'lord': 1, 'throughout': 1, 'madam': 2, 'anonbut': 1, 'meanst': 1, 'beseech': 1, 'suit': 1, 'thrive': 1, 'soul': 2, 'thousand': 2, 'times': 2, 'worse': 1, 'want': 1, 'goes': 1, 'toward': 2, 'schoolboys': 1, 'books': 1, 'school': 1, 'heavy': 1, 'looks': 1, 'retiring': 1, 'hist': 2, 'falconers': 1, 'voice': 1, 'lure': 1, 'tasselgentle': 1, 'bondage': 1, 'hoarse': 2, 'aloud': 1, 'cave': 1, 'echo': 1, 'make': 1, 'tongue': 1, 'repetition': 1, 'romeos': 1, 'silversweet': 1, 'softest': 1, 'music': 1, 'attending': 1, 'oclock': 1, 'hour': 1, 'nine': 1, 'fail': 1, 'years': 1, 'forgot': 1, 'why': 1, 'stand': 2, 'remember': 1, 'forget': 2, 'still': 3, 'remembering': 1, 'company': 1, 'forgetting': 1, 'home': 1, 'almost': 1, 'morning': 1, 'gone': 1, 'further': 1, 'wantons': 1, 'bird': 2, 'lets': 1, 'hop': 1, 'poor': 1, 'prisoner': 1, 'his': 3, 'twisted': 1, 'gyves': 1, 'silk': 1, 'thread': 1, 'plucks': 1, 'lovingjealous': 1, 'liberty': 1, 'much': 1, 'cherishing': 1, 'parting': 1, 'sorrow': 1, 'morrow': 1, 'sleep': 2, 'peace': 2, 'hence': 1, 'ghostly': 1, 'fathers': 1, 'cell': 1, 'help': 1, 'crave': 1, 'hap': 1}\n"
     ]
    }
   ],
   "source": [
    "# Métodos avançados de divisão de texto:\n",
    "import string\n",
    "string.punctuation\n",
    "\n",
    "fname = input('Nome do arquivo:')\n",
    "try:\n",
    "    fhand = open(fname)\n",
    "except:\n",
    "    print('erro')\n",
    "    exit()\n",
    "counts = dict()\n",
    "for line in fhand:\n",
    "    line= line.rstrip()\n",
    "    line= line.translate(line.maketrans('','',string.punctuation))\n",
    "    line= line.lower()\n",
    "    words= line.split()\n",
    "    for word in words:\n",
    "        if word not in counts:\n",
    "            counts[word] =1\n",
    "        else:\n",
    "            counts[word]+=1\n",
    "print(counts)"
   ]
  }
 ],
 "metadata": {
  "kernelspec": {
   "display_name": "Python 3",
   "language": "python",
   "name": "python3"
  },
  "language_info": {
   "codemirror_mode": {
    "name": "ipython",
    "version": 3
   },
   "file_extension": ".py",
   "mimetype": "text/x-python",
   "name": "python",
   "nbconvert_exporter": "python",
   "pygments_lexer": "ipython3",
   "version": "3.10.9"
  },
  "orig_nbformat": 4,
  "vscode": {
   "interpreter": {
    "hash": "ce52f2941166ede35db5d77fef71be126519e15341ee8857c5d250c1cc903509"
   }
  }
 },
 "nbformat": 4,
 "nbformat_minor": 2
}
